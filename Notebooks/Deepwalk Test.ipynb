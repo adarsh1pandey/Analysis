{
 "cells": [
  {
   "cell_type": "code",
   "execution_count": 1,
   "metadata": {},
   "outputs": [
    {
     "name": "stderr",
     "output_type": "stream",
     "text": [
      "Using TensorFlow backend.\n"
     ]
    }
   ],
   "source": [
    "import pandas as pd\n",
    "import numpy as np\n",
    "import json\n",
    "import numpy as np\n",
    "import pandas as pd\n",
    "from keras.models import Sequential\n",
    "from keras.layers import *\n",
    "from keras.utils import np_utils\n",
    "from nltk.tokenize import RegexpTokenizer\n",
    "from keras.models import Model,load_model\n",
    "from keras.callbacks import ModelCheckpoint\n",
    "from nltk.stem import WordNetLemmatizer\n",
    "from tqdm import tqdm\n",
    "from keras.optimizers import Adam\n",
    "from keras.preprocessing.text import Tokenizer\n",
    "from keras.preprocessing import sequence\n",
    "from keras.callbacks import EarlyStopping\n",
    "from keras.callbacks import Callback\n",
    "from sklearn.metrics import confusion_matrix, f1_score, precision_score, recall_score\n",
    "import seaborn as sns\n",
    "from sklearn.feature_extraction import text as sktext\n",
    "from sklearn import preprocessing as skp\n",
    "from keras import callbacks as kc\n",
    "from keras import optimizers as ko\n",
    "from keras import initializers, regularizers, constraints\n",
    "from keras.engine import Layer\n",
    "import keras.backend as K\n",
    "from sklearn.metrics import f1_score\n",
    "from keras.utils.vis_utils import model_to_dot\n",
    "from keras import models\n",
    "from keras import layers\n",
    "from sklearn.metrics import classification_report\n",
    "import matplotlib.pyplot as plt\n",
    "from keras.initializers import Constant\n",
    "%matplotlib inline"
   ]
  },
  {
   "cell_type": "code",
   "execution_count": 2,
   "metadata": {},
   "outputs": [],
   "source": [
    "with open('tweet_data.json', 'r') as f:\n",
    "    tweet_data = json.load(f)"
   ]
  },
  {
   "cell_type": "code",
   "execution_count": 3,
   "metadata": {},
   "outputs": [
    {
     "data": {
      "text/plain": [
       "3475"
      ]
     },
     "execution_count": 3,
     "metadata": {},
     "output_type": "execute_result"
    }
   ],
   "source": [
    "len(tweet_data.keys())"
   ]
  },
  {
   "cell_type": "code",
   "execution_count": 4,
   "metadata": {},
   "outputs": [],
   "source": [
    "with open('deepwalk_embs.json', 'r') as f:\n",
    "    deepwalk_embs = json.load(f)"
   ]
  },
  {
   "cell_type": "code",
   "execution_count": 5,
   "metadata": {},
   "outputs": [
    {
     "data": {
      "text/plain": [
       "{'created_at': 'Sat Nov 11 22:43:07 +0000 2017',\n",
       " 'id': 929479629840281601,\n",
       " 'id_str': '929479629840281601',\n",
       " 'full_text': 'I am Muhajir .. Aur mere lye sab se Pehly Pakistan he .. agr 10 lakh Altaf Jese leaders bh is zameen ki behurmati kren un sbko sar e aam phansi Deni chahye .. Proud to be a #Muhajir and #Pakistani',\n",
       " 'truncated': False,\n",
       " 'display_text_range': [0, 196],\n",
       " 'entities': {'hashtags': [{'text': 'Muhajir', 'indices': [173, 181]},\n",
       "   {'text': 'Pakistani', 'indices': [186, 196]}],\n",
       "  'symbols': [],\n",
       "  'user_mentions': [],\n",
       "  'urls': []},\n",
       " 'source': '<a href=\"http://twitter.com/download/android\" rel=\"nofollow\">Twitter for Android</a>',\n",
       " 'in_reply_to_status_id': None,\n",
       " 'in_reply_to_status_id_str': None,\n",
       " 'in_reply_to_user_id': None,\n",
       " 'in_reply_to_user_id_str': None,\n",
       " 'in_reply_to_screen_name': None,\n",
       " 'user': {'id': 1615850780,\n",
       "  'id_str': '1615850780',\n",
       "  'name': 'Sumair Khan',\n",
       "  'screen_name': 'sumair_sk',\n",
       "  'location': ' Karachi',\n",
       "  'description': 'Electronic Engineer, Hafiz E Quran , Teacher and Simple :)',\n",
       "  'url': None,\n",
       "  'entities': {'description': {'urls': []}},\n",
       "  'protected': False,\n",
       "  'followers_count': 4,\n",
       "  'friends_count': 105,\n",
       "  'listed_count': 0,\n",
       "  'created_at': 'Tue Jul 23 18:33:56 +0000 2013',\n",
       "  'favourites_count': 8,\n",
       "  'utc_offset': None,\n",
       "  'time_zone': None,\n",
       "  'geo_enabled': False,\n",
       "  'verified': False,\n",
       "  'statuses_count': 95,\n",
       "  'lang': None,\n",
       "  'contributors_enabled': False,\n",
       "  'is_translator': False,\n",
       "  'is_translation_enabled': False,\n",
       "  'profile_background_color': '0099B9',\n",
       "  'profile_background_image_url': 'http://abs.twimg.com/images/themes/theme1/bg.png',\n",
       "  'profile_background_image_url_https': 'https://abs.twimg.com/images/themes/theme1/bg.png',\n",
       "  'profile_background_tile': True,\n",
       "  'profile_image_url': 'http://pbs.twimg.com/profile_images/832511905159843841/MXRzVRxv_normal.jpg',\n",
       "  'profile_image_url_https': 'https://pbs.twimg.com/profile_images/832511905159843841/MXRzVRxv_normal.jpg',\n",
       "  'profile_banner_url': 'https://pbs.twimg.com/profile_banners/1615850780/1404676887',\n",
       "  'profile_link_color': '0099B9',\n",
       "  'profile_sidebar_border_color': 'FFFFFF',\n",
       "  'profile_sidebar_fill_color': 'DDEEF6',\n",
       "  'profile_text_color': '333333',\n",
       "  'profile_use_background_image': True,\n",
       "  'has_extended_profile': False,\n",
       "  'default_profile': False,\n",
       "  'default_profile_image': False,\n",
       "  'following': False,\n",
       "  'follow_request_sent': False,\n",
       "  'notifications': False,\n",
       "  'translator_type': 'none'},\n",
       " 'geo': None,\n",
       " 'coordinates': None,\n",
       " 'place': None,\n",
       " 'contributors': None,\n",
       " 'is_quote_status': False,\n",
       " 'retweet_count': 0,\n",
       " 'favorite_count': 0,\n",
       " 'favorited': False,\n",
       " 'retweeted': False,\n",
       " 'lang': 'hi'}"
      ]
     },
     "execution_count": 5,
     "metadata": {},
     "output_type": "execute_result"
    }
   ],
   "source": [
    "tweet_data['929479629840281601']"
   ]
  },
  {
   "cell_type": "code",
   "execution_count": 6,
   "metadata": {},
   "outputs": [],
   "source": [
    "id_emb_map = {}"
   ]
  },
  {
   "cell_type": "code",
   "execution_count": 7,
   "metadata": {},
   "outputs": [],
   "source": [
    "for ix in tweet_data:\n",
    "    u_id = tweet_data[ix]['user']['id']\n",
    "    emb = deepwalk_embs[str(u_id)]\n",
    "    id_emb_map[ix] = emb"
   ]
  },
  {
   "cell_type": "code",
   "execution_count": 8,
   "metadata": {},
   "outputs": [
    {
     "data": {
      "text/plain": [
       "3475"
      ]
     },
     "execution_count": 8,
     "metadata": {},
     "output_type": "execute_result"
    }
   ],
   "source": [
    "len(id_emb_map)"
   ]
  },
  {
   "cell_type": "code",
   "execution_count": 9,
   "metadata": {},
   "outputs": [],
   "source": [
    "label_data = pd.read_csv('final_data.csv')"
   ]
  },
  {
   "cell_type": "code",
   "execution_count": 10,
   "metadata": {},
   "outputs": [
    {
     "data": {
      "text/html": [
       "<div>\n",
       "<style scoped>\n",
       "    .dataframe tbody tr th:only-of-type {\n",
       "        vertical-align: middle;\n",
       "    }\n",
       "\n",
       "    .dataframe tbody tr th {\n",
       "        vertical-align: top;\n",
       "    }\n",
       "\n",
       "    .dataframe thead th {\n",
       "        text-align: right;\n",
       "    }\n",
       "</style>\n",
       "<table border=\"1\" class=\"dataframe\">\n",
       "  <thead>\n",
       "    <tr style=\"text-align: right;\">\n",
       "      <th></th>\n",
       "      <th>Unnamed: 0</th>\n",
       "      <th>label</th>\n",
       "      <th>user</th>\n",
       "      <th>tweet</th>\n",
       "      <th>emb</th>\n",
       "      <th>text</th>\n",
       "      <th>lemmas</th>\n",
       "    </tr>\n",
       "  </thead>\n",
       "  <tbody>\n",
       "    <tr>\n",
       "      <th>0</th>\n",
       "      <td>0</td>\n",
       "      <td>0</td>\n",
       "      <td>1615850780</td>\n",
       "      <td>929479629840281601</td>\n",
       "      <td>[ 0.00447152 -0.00207724 -0.00693714 -0.005786...</td>\n",
       "      <td>I am a young person and I am quite open to Pak...</td>\n",
       "      <td>i be muhajir aur mere lye sab se pehly pakista...</td>\n",
       "    </tr>\n",
       "    <tr>\n",
       "      <th>1</th>\n",
       "      <td>1</td>\n",
       "      <td>0</td>\n",
       "      <td>903075788756590593</td>\n",
       "      <td>929467030406758400</td>\n",
       "      <td>[ 0.00511213  0.0066199  -0.00406399 -0.001209...</td>\n",
       "      <td>&lt;User&gt; &lt;User&gt; Doctor Subhash ke PhD in Het Pol...</td>\n",
       "      <td>&lt;user&gt; &lt;user&gt; doctor sab sahi me ke phd in hat...</td>\n",
       "    </tr>\n",
       "    <tr>\n",
       "      <th>2</th>\n",
       "      <td>2</td>\n",
       "      <td>1</td>\n",
       "      <td>881096476616781825</td>\n",
       "      <td>929460995981901825</td>\n",
       "      <td>[-0.6831904   2.609242    2.6378176   2.580363...</td>\n",
       "      <td>After the formation of the government, a singl...</td>\n",
       "      <td>&lt;user&gt; sarkar banne ke bad hindu hit me ek bhi...</td>\n",
       "    </tr>\n",
       "    <tr>\n",
       "      <th>3</th>\n",
       "      <td>3</td>\n",
       "      <td>1</td>\n",
       "      <td>3268145264</td>\n",
       "      <td>929460432498233344</td>\n",
       "      <td>[ 1.6771747   0.14684932 -0.8186511   1.882037...</td>\n",
       "      <td>Hate it when the test is not so frozen</td>\n",
       "      <td>hate it jab test ata ho phr bh acha na ho</td>\n",
       "    </tr>\n",
       "    <tr>\n",
       "      <th>4</th>\n",
       "      <td>4</td>\n",
       "      <td>0</td>\n",
       "      <td>763212669524467712</td>\n",
       "      <td>929459222697431040</td>\n",
       "      <td>[ 1.1214749   3.8859344   3.6560123   2.660346...</td>\n",
       "      <td>&lt;user&gt; One of the victims has been raped and r...</td>\n",
       "      <td>&lt;user&gt; ek dil ek jaan akal ke imitihaan kal kp...</td>\n",
       "    </tr>\n",
       "  </tbody>\n",
       "</table>\n",
       "</div>"
      ],
      "text/plain": [
       "   Unnamed: 0  label                user               tweet  \\\n",
       "0           0      0          1615850780  929479629840281601   \n",
       "1           1      0  903075788756590593  929467030406758400   \n",
       "2           2      1  881096476616781825  929460995981901825   \n",
       "3           3      1          3268145264  929460432498233344   \n",
       "4           4      0  763212669524467712  929459222697431040   \n",
       "\n",
       "                                                 emb  \\\n",
       "0  [ 0.00447152 -0.00207724 -0.00693714 -0.005786...   \n",
       "1  [ 0.00511213  0.0066199  -0.00406399 -0.001209...   \n",
       "2  [-0.6831904   2.609242    2.6378176   2.580363...   \n",
       "3  [ 1.6771747   0.14684932 -0.8186511   1.882037...   \n",
       "4  [ 1.1214749   3.8859344   3.6560123   2.660346...   \n",
       "\n",
       "                                                text  \\\n",
       "0  I am a young person and I am quite open to Pak...   \n",
       "1  <User> <User> Doctor Subhash ke PhD in Het Pol...   \n",
       "2  After the formation of the government, a singl...   \n",
       "3             Hate it when the test is not so frozen   \n",
       "4  <user> One of the victims has been raped and r...   \n",
       "\n",
       "                                              lemmas  \n",
       "0  i be muhajir aur mere lye sab se pehly pakista...  \n",
       "1  <user> <user> doctor sab sahi me ke phd in hat...  \n",
       "2  <user> sarkar banne ke bad hindu hit me ek bhi...  \n",
       "3          hate it jab test ata ho phr bh acha na ho  \n",
       "4  <user> ek dil ek jaan akal ke imitihaan kal kp...  "
      ]
     },
     "execution_count": 10,
     "metadata": {},
     "output_type": "execute_result"
    }
   ],
   "source": [
    "label_data.head()"
   ]
  },
  {
   "cell_type": "code",
   "execution_count": 11,
   "metadata": {},
   "outputs": [
    {
     "data": {
      "text/plain": [
       "(3475, 7)"
      ]
     },
     "execution_count": 11,
     "metadata": {},
     "output_type": "execute_result"
    }
   ],
   "source": [
    "label_data.shape"
   ]
  },
  {
   "cell_type": "code",
   "execution_count": 12,
   "metadata": {},
   "outputs": [],
   "source": [
    "embs = []\n",
    "labels = []\n",
    "tweets = []"
   ]
  },
  {
   "cell_type": "code",
   "execution_count": 13,
   "metadata": {},
   "outputs": [],
   "source": [
    "for ix in range(label_data.shape[0]):\n",
    "    user = str(label_data['user'].iloc[ix])\n",
    "    tweet = label_data['text'].iloc[ix]\n",
    "    label = label_data['label'].iloc[ix]\n",
    "    if user in deepwalk_embs:\n",
    "        embs.append(deepwalk_embs[user])\n",
    "        cur = label\n",
    "        labels.append(cur)\n",
    "        tweets.append(tweet)"
   ]
  },
  {
   "cell_type": "code",
   "execution_count": 14,
   "metadata": {},
   "outputs": [],
   "source": [
    "labels = np.array(labels)\n",
    "embs = np.array(embs)\n",
    "tweets = np.array(tweets)"
   ]
  },
  {
   "cell_type": "code",
   "execution_count": 15,
   "metadata": {},
   "outputs": [
    {
     "data": {
      "text/plain": [
       "((3475,), (3475, 64), (3475,))"
      ]
     },
     "execution_count": 15,
     "metadata": {},
     "output_type": "execute_result"
    }
   ],
   "source": [
    "labels.shape, embs.shape, tweets.shape"
   ]
  },
  {
   "cell_type": "code",
   "execution_count": 16,
   "metadata": {},
   "outputs": [],
   "source": [
    "np.save('deepwalk_embs_final.npy', embs)"
   ]
  },
  {
   "cell_type": "code",
   "execution_count": 37,
   "metadata": {},
   "outputs": [],
   "source": [
    "import numpy as np\n",
    "import pandas as pd\n",
    "import matplotlib.pyplot as plt\n",
    "%matplotlib inline\n",
    "from keras.layers import Dense, Activation, Flatten, Dropout, Convolution2D, MaxPooling2D\n",
    "from keras.models import Sequential\n",
    "from keras.utils import np_utils\n",
    "import os\n",
    "from keras.utils import np_utils\n",
    "from sklearn.model_selection import train_test_split \n",
    "from sklearn.utils import shuffle"
   ]
  },
  {
   "cell_type": "code",
   "execution_count": 43,
   "metadata": {},
   "outputs": [],
   "source": [
    "model = Sequential()\n",
    "model.add(Dense(128))\n",
    "model.add(Activation('relu'))\n",
    "model.add(Dense(64))\n",
    "model.add( Dropout(0.4) )\n",
    "model.add(Activation('relu'))\n",
    "model.add(Dense(2))\n",
    "model.add(Activation('softmax'))"
   ]
  },
  {
   "cell_type": "code",
   "execution_count": 44,
   "metadata": {},
   "outputs": [],
   "source": [
    "model.compile(optimizer='adam', loss='categorical_crossentropy', metrics=['accuracy'])"
   ]
  },
  {
   "cell_type": "code",
   "execution_count": 42,
   "metadata": {},
   "outputs": [
    {
     "data": {
      "text/plain": [
       "(3475, 2)"
      ]
     },
     "execution_count": 42,
     "metadata": {},
     "output_type": "execute_result"
    }
   ],
   "source": [
    "labels = np_utils.to_categorical(labels)\n",
    "labels.shape"
   ]
  },
  {
   "cell_type": "code",
   "execution_count": 45,
   "metadata": {},
   "outputs": [
    {
     "name": "stderr",
     "output_type": "stream",
     "text": [
      "W0815 19:26:42.622525 4624610752 deprecation_wrapper.py:119] From /usr/local/lib/python3.7/site-packages/keras/backend/tensorflow_backend.py:517: The name tf.placeholder is deprecated. Please use tf.compat.v1.placeholder instead.\n",
      "\n",
      "W0815 19:26:42.629787 4624610752 deprecation_wrapper.py:119] From /usr/local/lib/python3.7/site-packages/keras/backend/tensorflow_backend.py:4138: The name tf.random_uniform is deprecated. Please use tf.random.uniform instead.\n",
      "\n",
      "W0815 19:26:42.783751 4624610752 deprecation_wrapper.py:119] From /usr/local/lib/python3.7/site-packages/keras/backend/tensorflow_backend.py:133: The name tf.placeholder_with_default is deprecated. Please use tf.compat.v1.placeholder_with_default instead.\n",
      "\n",
      "W0815 19:26:42.893162 4624610752 deprecation.py:506] From /usr/local/lib/python3.7/site-packages/keras/backend/tensorflow_backend.py:3445: calling dropout (from tensorflow.python.ops.nn_ops) with keep_prob is deprecated and will be removed in a future version.\n",
      "Instructions for updating:\n",
      "Please use `rate` instead of `keep_prob`. Rate should be set to `rate = 1 - keep_prob`.\n",
      "W0815 19:26:42.955109 4624610752 deprecation_wrapper.py:119] From /usr/local/lib/python3.7/site-packages/keras/backend/tensorflow_backend.py:3295: The name tf.log is deprecated. Please use tf.math.log instead.\n",
      "\n",
      "W0815 19:26:43.138626 4624610752 deprecation.py:323] From /usr/local/lib/python3.7/site-packages/tensorflow/python/ops/math_grad.py:1250: add_dispatch_support.<locals>.wrapper (from tensorflow.python.ops.array_ops) is deprecated and will be removed in a future version.\n",
      "Instructions for updating:\n",
      "Use tf.where in 2.0, which has the same broadcast rule as np.where\n"
     ]
    },
    {
     "name": "stdout",
     "output_type": "stream",
     "text": [
      "Train on 2780 samples, validate on 695 samples\n",
      "Epoch 1/10\n",
      "2780/2780 [==============================] - 2s 646us/step - loss: 0.6830 - acc: 0.6072 - val_loss: 0.6484 - val_acc: 0.6647\n",
      "Epoch 2/10\n",
      "2780/2780 [==============================] - 0s 90us/step - loss: 0.6634 - acc: 0.6219 - val_loss: 0.6421 - val_acc: 0.6619\n",
      "Epoch 3/10\n",
      "2780/2780 [==============================] - 0s 87us/step - loss: 0.6539 - acc: 0.6331 - val_loss: 0.6496 - val_acc: 0.6460\n",
      "Epoch 4/10\n",
      "2780/2780 [==============================] - 0s 91us/step - loss: 0.6489 - acc: 0.6338 - val_loss: 0.6396 - val_acc: 0.6619\n",
      "Epoch 5/10\n",
      "2780/2780 [==============================] - 0s 143us/step - loss: 0.6409 - acc: 0.6406 - val_loss: 0.6433 - val_acc: 0.6403\n",
      "Epoch 6/10\n",
      "2780/2780 [==============================] - 0s 110us/step - loss: 0.6326 - acc: 0.6457 - val_loss: 0.6552 - val_acc: 0.6273\n",
      "Epoch 7/10\n",
      "2780/2780 [==============================] - 0s 84us/step - loss: 0.6277 - acc: 0.6464 - val_loss: 0.6479 - val_acc: 0.6417\n",
      "Epoch 8/10\n",
      "2780/2780 [==============================] - 0s 165us/step - loss: 0.6210 - acc: 0.6622 - val_loss: 0.6625 - val_acc: 0.6129\n",
      "Epoch 9/10\n",
      "2780/2780 [==============================] - 0s 89us/step - loss: 0.6179 - acc: 0.6619 - val_loss: 0.6587 - val_acc: 0.6259\n",
      "Epoch 10/10\n",
      "2780/2780 [==============================] - 0s 80us/step - loss: 0.6087 - acc: 0.6719 - val_loss: 0.6671 - val_acc: 0.6201\n"
     ]
    },
    {
     "data": {
      "text/plain": [
       "<keras.callbacks.History at 0x118900c10>"
      ]
     },
     "execution_count": 45,
     "metadata": {},
     "output_type": "execute_result"
    }
   ],
   "source": [
    "model.fit( embs, labels, validation_split=0.2, shuffle=True, epochs=10 )"
   ]
  },
  {
   "cell_type": "code",
   "execution_count": 46,
   "metadata": {},
   "outputs": [],
   "source": [
    "from sklearn.metrics import f1_score"
   ]
  },
  {
   "cell_type": "code",
   "execution_count": 47,
   "metadata": {},
   "outputs": [],
   "source": [
    "from sklearn.metrics import classification_report"
   ]
  },
  {
   "cell_type": "code",
   "execution_count": 48,
   "metadata": {},
   "outputs": [],
   "source": [
    "pred_val = model.predict(embs[3000:])"
   ]
  },
  {
   "cell_type": "code",
   "execution_count": 49,
   "metadata": {},
   "outputs": [],
   "source": [
    "pred_val = pred_val.argmax(axis=1)"
   ]
  },
  {
   "cell_type": "code",
   "execution_count": 50,
   "metadata": {},
   "outputs": [],
   "source": [
    "true = labels[3000:,1]"
   ]
  },
  {
   "cell_type": "code",
   "execution_count": 51,
   "metadata": {},
   "outputs": [],
   "source": [
    "final = pd.DataFrame()\n",
    "final['true'] = true.astype(int)\n",
    "final['pred'] = pred_val.astype(int)"
   ]
  },
  {
   "cell_type": "code",
   "execution_count": 60,
   "metadata": {},
   "outputs": [
    {
     "name": "stdout",
     "output_type": "stream",
     "text": [
      "              precision    recall  f1-score   support\n",
      "\n",
      "           0       0.68      0.87      0.77       322\n",
      "           1       0.36      0.16      0.22       153\n",
      "\n",
      "    accuracy                           0.64       475\n",
      "   macro avg       0.52      0.51      0.49       475\n",
      "weighted avg       0.58      0.64      0.59       475\n",
      "\n"
     ]
    }
   ],
   "source": [
    "print(classification_report(final['true'],final['pred']))"
   ]
  },
  {
   "cell_type": "code",
   "execution_count": 137,
   "metadata": {},
   "outputs": [],
   "source": [
    "from sklearn.manifold import TSNE"
   ]
  },
  {
   "cell_type": "code",
   "execution_count": 138,
   "metadata": {},
   "outputs": [],
   "source": [
    "tsne_model = TSNE(perplexity=40, n_components=2, init='pca', n_iter=2500)\n",
    "new_values = tsne_model.fit_transform(embs)"
   ]
  },
  {
   "cell_type": "code",
   "execution_count": 139,
   "metadata": {},
   "outputs": [],
   "source": [
    "x = []\n",
    "y = []\n",
    "for value in new_values:\n",
    "    x.append(value[0])\n",
    "    y.append(value[1])"
   ]
  },
  {
   "cell_type": "code",
   "execution_count": 142,
   "metadata": {},
   "outputs": [],
   "source": [
    "colors = ['red','green']"
   ]
  },
  {
   "cell_type": "code",
   "execution_count": 143,
   "metadata": {},
   "outputs": [
    {
     "data": {
      "image/png": "[encoded data removed]",
      "text/plain": [
       "<Figure size 576x576 with 1 Axes>"
      ]
     },
     "metadata": {
      "needs_background": "light"
     },
     "output_type": "display_data"
    }
   ],
   "source": [
    "import matplotlib\n",
    "plt.figure(figsize=(8, 8)) \n",
    "plt.scatter(x, y, c=labels, cmap=matplotlib.colors.ListedColormap(colors))\n",
    "plt.show()"
   ]
  },
  {
   "cell_type": "code",
   "execution_count": null,
   "metadata": {},
   "outputs": [],
   "source": []
  },
  {
   "cell_type": "code",
   "execution_count": null,
   "metadata": {},
   "outputs": [],
   "source": []
  },
  {
   "cell_type": "code",
   "execution_count": 93,
   "metadata": {},
   "outputs": [],
   "source": [
    "train_df = pd.DataFrame()\n",
    "train_df['content'] = tweets\n",
    "train_df['class'] = labels"
   ]
  },
  {
   "cell_type": "code",
   "execution_count": 96,
   "metadata": {},
   "outputs": [
    {
     "name": "stdout",
     "output_type": "stream",
     "text": [
      "Training data phrase length distribution\n"
     ]
    },
    {
     "data": {
      "text/plain": [
       "<matplotlib.axes._subplots.AxesSubplot at 0x135b101d0>"
      ]
     },
     "execution_count": 96,
     "metadata": {},
     "output_type": "execute_result"
    },
    {
     "data": {
      "image/png": "[encoded data removed]",
      "text/plain": [
       "<Figure size 432x288 with 1 Axes>"
      ]
     },
     "metadata": {
      "needs_background": "light"
     },
     "output_type": "display_data"
    }
   ],
   "source": [
    "print(\"Training data phrase length distribution\")\n",
    "sns.distplot(train_df['content'].map(lambda ele: len(ele)), kde_kws={\"label\": \"train\"})"
   ]
  },
  {
   "cell_type": "code",
   "execution_count": 97,
   "metadata": {},
   "outputs": [
    {
     "name": "stdout",
     "output_type": "stream",
     "text": [
      "Most frequent sentence length in training:\n",
      "119\n"
     ]
    }
   ],
   "source": [
    "print('Most frequent sentence length in training:')\n",
    "lens = train_df['content'].map(lambda ele: len(ele))\n",
    "counts = np.bincount(lens)\n",
    "print(np.argmax(counts))"
   ]
  },
  {
   "cell_type": "code",
   "execution_count": 98,
   "metadata": {},
   "outputs": [
    {
     "name": "stdout",
     "output_type": "stream",
     "text": [
      "Testing data phrase length distribution\n"
     ]
    },
    {
     "data": {
      "text/plain": [
       "<matplotlib.axes._subplots.AxesSubplot at 0x139143250>"
      ]
     },
     "execution_count": 98,
     "metadata": {},
     "output_type": "execute_result"
    },
    {
     "data": {
      "image/png": "[encoded data removed]",
      "text/plain": [
       "<Figure size 432x288 with 1 Axes>"
      ]
     },
     "metadata": {
      "needs_background": "light"
     },
     "output_type": "display_data"
    }
   ],
   "source": [
    "print(\"Testing data phrase length distribution\")\n",
    "sns.distplot(train_df['content'].map(lambda ele: len(ele)), kde_kws={\"label\": \"test\"})"
   ]
  },
  {
   "cell_type": "code",
   "execution_count": 99,
   "metadata": {},
   "outputs": [],
   "source": [
    "test_df = train_df[3000:]\n",
    "train_df = train_df[:3000]"
   ]
  },
  {
   "cell_type": "code",
   "execution_count": 100,
   "metadata": {},
   "outputs": [
    {
     "name": "stdout",
     "output_type": "stream",
     "text": [
      "Testing data phrase length distribution\n"
     ]
    },
    {
     "data": {
      "text/plain": [
       "<matplotlib.axes._subplots.AxesSubplot at 0x115018650>"
      ]
     },
     "execution_count": 100,
     "metadata": {},
     "output_type": "execute_result"
    },
    {
     "data": {
      "image/png": "[encoded data removed]",
      "text/plain": [
       "<Figure size 432x288 with 1 Axes>"
      ]
     },
     "metadata": {
      "needs_background": "light"
     },
     "output_type": "display_data"
    }
   ],
   "source": [
    "print(\"Testing data phrase length distribution\")\n",
    "sns.distplot(test_df['content'].map(lambda ele: len(ele)), kde_kws={\"label\": \"test\"})"
   ]
  },
  {
   "cell_type": "code",
   "execution_count": 101,
   "metadata": {},
   "outputs": [
    {
     "name": "stdout",
     "output_type": "stream",
     "text": [
      "Most frequent sentence length in testing:\n",
      "131\n"
     ]
    }
   ],
   "source": [
    "print('Most frequent sentence length in testing:')\n",
    "lens = test_df['content'].map(lambda ele: len(ele))\n",
    "counts = np.bincount(lens)\n",
    "print(np.argmax(counts))"
   ]
  },
  {
   "cell_type": "code",
   "execution_count": 102,
   "metadata": {},
   "outputs": [],
   "source": [
    "punct = \"/-'?!.,#$%\\'()*+-/:;<=>@[\\\\]^_`{|}~\" + '\"\"“”’' + '∞θ÷α•à−β∅³π‘₹´°£€\\×™√²—–&'"
   ]
  },
  {
   "cell_type": "code",
   "execution_count": 103,
   "metadata": {},
   "outputs": [],
   "source": [
    "\n",
    "## A dictionary to map the punctuations present in the text to relevant strings or symbols\n",
    "punct_mapping = {\"‘\": \"'\", \n",
    "                 \"₹\": \"e\", \n",
    "                 \"´\": \"'\", \n",
    "                 \"°\": \"\", \n",
    "                 \"€\": \"e\", \n",
    "                 \"™\": \"tm\",\n",
    "                 \"√\": \" sqrt \",\n",
    "                 \"×\": \"x\",\n",
    "                 \"²\": \"2\",\n",
    "                 \"—\": \"-\",\n",
    "                 \"–\": \"-\",\n",
    "                 \"’\": \"'\",\n",
    "                 \"_\": \"-\",\n",
    "                 \"`\": \"'\",\n",
    "                 '“': '\"',\n",
    "                 '”': '\"',\n",
    "                 '“': '\"',\n",
    "                 \"£\": \"e\",\n",
    "                 '∞': 'infinity',\n",
    "                 'θ': 'theta',\n",
    "                 '÷': '/',\n",
    "                 'α': 'alpha',\n",
    "                 '•': '.',\n",
    "                 'à': 'a',\n",
    "                 '−': '-',\n",
    "                 'β': 'beta',\n",
    "                 '∅': '',\n",
    "                 '³': '3',\n",
    "                 'π': 'pi',\n",
    "                 ',':'',\n",
    "                 '.':'',\n",
    "                 ':':'',\n",
    "                 '(':'',\n",
    "                 ')':'',\n",
    "                 '*':'',\n",
    "                '\"':'',\n",
    "                '<':'',\n",
    "                '>':''}"
   ]
  },
  {
   "cell_type": "code",
   "execution_count": 104,
   "metadata": {},
   "outputs": [],
   "source": [
    "def unknown_punct(embed, punct):\n",
    "    unknown = ''\n",
    "    for p in punct:\n",
    "        if p not in embed:\n",
    "            unknown += p\n",
    "            unknown += ' '\n",
    "    return unknown\n",
    "\n",
    "## Function to remove special characters from the sentences (if any present)\n",
    "def clean_special_chars(text, punct, mapping):\n",
    "    for p in mapping:\n",
    "        text = text.replace(p, mapping[p])\n",
    "    \n",
    "    specials = {'\\u200b': ' ', '…': ' ... ', '\\ufeff': '', 'करना': '', 'है': ''}  # Other special characters that I have to deal with in last\n",
    "    for s in specials:\n",
    "        text = text.replace(s, specials[s])\n",
    "    \n",
    "    return text"
   ]
  },
  {
   "cell_type": "code",
   "execution_count": 105,
   "metadata": {},
   "outputs": [],
   "source": [
    "train_df.loc[:, 'content'] = train_df['content'].map(lambda text: clean_special_chars(text, punct, punct_mapping))\n",
    "test_df.loc[:, 'content'] = test_df['content'].map(lambda text: clean_special_chars(text, punct, punct_mapping))"
   ]
  },
  {
   "cell_type": "code",
   "execution_count": 106,
   "metadata": {},
   "outputs": [],
   "source": [
    "contraction_mapping = {\"ain't\": \"is not\", \"aren't\": \"are not\",\"can't\": \"cannot\", \n",
    "                   \"can't've\": \"cannot have\", \"'cause\": \"because\", \"could've\": \"could have\", \n",
    "                   \"couldn't\": \"could not\", \"couldn't've\": \"could not have\",\"didn't\": \"did not\", \n",
    "                   \"doesn't\": \"does not\", \"don't\": \"do not\", \"hadn't\": \"had not\", \n",
    "                   \"hadn't've\": \"had not have\", \"hasn't\": \"has not\", \"haven't\": \"have not\", \n",
    "                   \"he'd\": \"he would\", \"he'd've\": \"he would have\", \"he'll\": \"he will\", \n",
    "                   \"he'll've\": \"he will have\", \"he's\": \"he is\", \"how'd\": \"how did\", \n",
    "                   \"how'd'y\": \"how do you\", \"how'll\": \"how will\", \"how's\": \"how is\", \n",
    "                   \"I'd\": \"I would\", \"I'd've\": \"I would have\", \"I'll\": \"I will\", \n",
    "                   \"I'll've\": \"I will have\",\"I'm\": \"I am\", \"I've\": \"I have\", \n",
    "                   \"i'd\": \"i would\", \"i'd've\": \"i would have\", \"i'll\": \"i will\", \n",
    "                   \"i'll've\": \"i will have\",\"i'm\": \"i am\", \"i've\": \"i have\", \n",
    "                   \"isn't\": \"is not\", \"it'd\": \"it would\", \"it'd've\": \"it would have\", \n",
    "                   \"it'll\": \"it will\", \"it'll've\": \"it will have\",\"it's\": \"it is\", \n",
    "                   \"let's\": \"let us\", \"ma'am\": \"madam\", \"mayn't\": \"may not\", \n",
    "                   \"might've\": \"might have\",\"mightn't\": \"might not\",\"mightn't've\": \"might not have\", \n",
    "                   \"must've\": \"must have\", \"mustn't\": \"must not\", \"mustn't've\": \"must not have\", \n",
    "                   \"needn't\": \"need not\", \"needn't've\": \"need not have\",\"o'clock\": \"of the clock\", \n",
    "                   \"oughtn't\": \"ought not\", \"oughtn't've\": \"ought not have\", \"shan't\": \"shall not\",\n",
    "                   \"sha'n't\": \"shall not\", \"shan't've\": \"shall not have\", \"she'd\": \"she would\", \n",
    "                   \"she'd've\": \"she would have\", \"she'll\": \"she will\", \"she'll've\": \"she will have\", \n",
    "                   \"she's\": \"she is\", \"should've\": \"should have\", \"shouldn't\": \"should not\", \n",
    "                   \"shouldn't've\": \"should not have\", \"so've\": \"so have\",\"so's\": \"so as\", \n",
    "                   \"this's\": \"this is\",\n",
    "                   \"that'd\": \"that would\", \"that'd've\": \"that would have\",\"that's\": \"that is\", \n",
    "                   \"there'd\": \"there would\", \"there'd've\": \"there would have\",\"there's\": \"there is\", \n",
    "                       \"here's\": \"here is\",\n",
    "                   \"they'd\": \"they would\", \"they'd've\": \"they would have\", \"they'll\": \"they will\", \n",
    "                   \"they'll've\": \"they will have\", \"they're\": \"they are\", \"they've\": \"they have\", \n",
    "                   \"to've\": \"to have\", \"wasn't\": \"was not\", \"we'd\": \"we would\", \n",
    "                   \"we'd've\": \"we would have\", \"we'll\": \"we will\", \"we'll've\": \"we will have\", \n",
    "                   \"we're\": \"we are\", \"we've\": \"we have\", \"weren't\": \"were not\", \n",
    "                   \"what'll\": \"what will\", \"what'll've\": \"what will have\", \"what're\": \"what are\", \n",
    "                   \"what's\": \"what is\", \"what've\": \"what have\", \"when's\": \"when is\", \n",
    "                   \"when've\": \"when have\", \"where'd\": \"where did\", \"where's\": \"where is\", \n",
    "                   \"where've\": \"where have\", \"who'll\": \"who will\", \"who'll've\": \"who will have\", \n",
    "                   \"who's\": \"who is\", \"who've\": \"who have\", \"why's\": \"why is\", \n",
    "                   \"why've\": \"why have\", \"will've\": \"will have\", \"won't\": \"will not\", \n",
    "                   \"won't've\": \"will not have\", \"would've\": \"would have\", \"wouldn't\": \"would not\", \n",
    "                   \"wouldn't've\": \"would not have\", \"y'all\": \"you all\", \"y'all'd\": \"you all would\",\n",
    "                   \"y'all'd've\": \"you all would have\",\"y'all're\": \"you all are\",\"y'all've\": \"you all have\",\n",
    "                   \"you'd\": \"you would\", \"you'd've\": \"you would have\", \"you'll\": \"you will\", \n",
    "                   \"you'll've\": \"you will have\", \"you're\": \"you are\", \"you've\": \"you have\" }"
   ]
  },
  {
   "cell_type": "code",
   "execution_count": 107,
   "metadata": {},
   "outputs": [],
   "source": [
    "def clean_contractions(text, mapping):\n",
    "    specials = [\"’\", \"‘\", \"´\", \"`\"]\n",
    "    for s in specials:\n",
    "        text = text.replace(s, \"'\")\n",
    "    text = ' '.join([mapping[t] if t in mapping else t for t in text.split(\" \")])\n",
    "    return text"
   ]
  },
  {
   "cell_type": "code",
   "execution_count": 108,
   "metadata": {},
   "outputs": [],
   "source": [
    "train_df.loc[:, 'content'] = train_df['content'].map(lambda text: clean_contractions(text, contraction_mapping))\n",
    "test_df.loc[:, 'content'] = test_df['content'].map(lambda text: clean_contractions(text, contraction_mapping))"
   ]
  },
  {
   "cell_type": "code",
   "execution_count": 109,
   "metadata": {},
   "outputs": [],
   "source": [
    "train_df.loc[:, 'content'] = train_df['content'].map(lambda text: text.lower())\n",
    "test_df.loc[:, 'content'] = test_df['content'].map(lambda text: text.lower())"
   ]
  },
  {
   "cell_type": "code",
   "execution_count": 117,
   "metadata": {},
   "outputs": [],
   "source": [
    "data = train_df.values\n",
    "data_test = test_df.values"
   ]
  },
  {
   "cell_type": "code",
   "execution_count": 118,
   "metadata": {},
   "outputs": [
    {
     "name": "stdout",
     "output_type": "stream",
     "text": [
      "(3000,) (3000,) (475,) (475,)\n",
      "-------------------------\n",
      "user the user is not right i do not know when it is time to change such thinking then here is the excitement 0\n",
      "i am a young person and i am quite open to pakistan but he has ten thousand of whom are the only leaders who have been able to behave in such a way that he does not want to be a terrorist he has to be proud of a hashtag and hashtag 0\n"
     ]
    }
   ],
   "source": [
    "X_train = data[:,0]\n",
    "Y_train = data[:,1]\n",
    "\n",
    "X_test = data_test[:,0]\n",
    "Y_test = data_test[:,1]\n",
    "\n",
    "print (X_train.shape, Y_train.shape, X_test.shape, Y_test.shape)\n",
    "print (\"-------------------------\")\n",
    "print (X_test[0], Y_test[0])\n",
    "print (X_train[0], Y_train[0])"
   ]
  },
  {
   "cell_type": "code",
   "execution_count": 119,
   "metadata": {},
   "outputs": [],
   "source": [
    "tokenizer = RegexpTokenizer(\"[a-zA-Z]+\")\n",
    "lemmatizer = WordNetLemmatizer()"
   ]
  },
  {
   "cell_type": "code",
   "execution_count": 120,
   "metadata": {},
   "outputs": [],
   "source": [
    "for ix in range(X_train.shape[0]):\n",
    "    X_train[ix] = tokenizer.tokenize(X_train[ix])\n",
    "    X_train[ix] = [lemmatizer.lemmatize(i) for i in X_train[ix]]\n",
    "    \n",
    "for ix in range(X_test.shape[0]):\n",
    "    X_test[ix] = tokenizer.tokenize(X_test[ix])\n",
    "    X_test[ix] = [lemmatizer.lemmatize(i) for i in X_test[ix]]"
   ]
  },
  {
   "cell_type": "code",
   "execution_count": 121,
   "metadata": {},
   "outputs": [
    {
     "name": "stderr",
     "output_type": "stream",
     "text": [
      "100%|██████████| 3000/3000 [00:00<00:00, 177883.03it/s]"
     ]
    },
    {
     "name": "stdout",
     "output_type": "stream",
     "text": [
      "Vocabulary Size:\n",
      "7042\n",
      "Maximum length of sentence:\n",
      "75\n"
     ]
    },
    {
     "name": "stderr",
     "output_type": "stream",
     "text": [
      "\n"
     ]
    }
   ],
   "source": [
    "\n",
    "unique_words = set()\n",
    "len_max = 0\n",
    "\n",
    "for sent in tqdm(X_train):\n",
    "    \n",
    "    unique_words.update(sent)\n",
    "    \n",
    "    if(len_max<len(sent)):\n",
    "        len_max = len(sent)\n",
    "        \n",
    "## Length of the list of unique_words gives the no of unique words\n",
    "print(\"Vocabulary Size:\")\n",
    "print(len(list(unique_words)))\n",
    "print(\"Maximum length of sentence:\")\n",
    "print(len_max)"
   ]
  },
  {
   "cell_type": "code",
   "execution_count": 122,
   "metadata": {},
   "outputs": [],
   "source": [
    "len_max = 100"
   ]
  },
  {
   "cell_type": "code",
   "execution_count": 123,
   "metadata": {},
   "outputs": [
    {
     "name": "stdout",
     "output_type": "stream",
     "text": [
      "(3000, 100) (475, 100)\n"
     ]
    }
   ],
   "source": [
    "tokenizer_keras = Tokenizer(num_words=len(list(unique_words)))\n",
    "tokenizer_keras.fit_on_texts(list(X_train))\n",
    "X_train = tokenizer_keras.texts_to_sequences(X_train)\n",
    "X_test = tokenizer_keras.texts_to_sequences(X_test)\n",
    "\n",
    "## Padding done to equalize the lengths of all input reviews. LSTM networks needs all inputs to be same length.\n",
    "## Therefore reviews lesser than max length will be made equal using extra zeros at end. This is padding.\n",
    "X_train = sequence.pad_sequences(X_train, maxlen=len_max)\n",
    "X_test = sequence.pad_sequences(X_test, maxlen=len_max)\n",
    "print(X_train.shape,X_test.shape)"
   ]
  },
  {
   "cell_type": "code",
   "execution_count": 124,
   "metadata": {},
   "outputs": [],
   "source": [
    "embeddings_index = dict()"
   ]
  },
  {
   "cell_type": "code",
   "execution_count": 126,
   "metadata": {},
   "outputs": [],
   "source": [
    "f = open('./glove.6B.200d.txt')\n",
    "for line in f:\n",
    "    values = line.split()\n",
    "    word = values[0]\n",
    "    coefs = np.asarray(values[1:], dtype='float32')\n",
    "    embeddings_index[word] = coefs\n",
    "f.close()"
   ]
  },
  {
   "cell_type": "code",
   "execution_count": 127,
   "metadata": {},
   "outputs": [],
   "source": [
    "vocab_size=len(list(unique_words))\n",
    "embedding_matrix = np.zeros((vocab_size+1, 200))\n",
    "for word, i in tokenizer_keras.word_index.items():\n",
    "    embedding_vector = embeddings_index.get(word)\n",
    "    if embedding_vector is not None:\n",
    "        embedding_matrix[i] = embedding_vector"
   ]
  },
  {
   "cell_type": "code",
   "execution_count": 128,
   "metadata": {},
   "outputs": [
    {
     "name": "stdout",
     "output_type": "stream",
     "text": [
      "Vocabulry Size:\n",
      "7042\n"
     ]
    }
   ],
   "source": [
    "print(\"Vocabulry Size:\")\n",
    "print(vocab_size)"
   ]
  },
  {
   "cell_type": "code",
   "execution_count": 129,
   "metadata": {},
   "outputs": [],
   "source": [
    "embed_size = 200\n",
    "max_features = vocab_size + 1 "
   ]
  },
  {
   "cell_type": "code",
   "execution_count": 130,
   "metadata": {},
   "outputs": [],
   "source": [
    "import os\n",
    "import time\n",
    "import numpy as np # linear algebra\n",
    "import pandas as pd # data processing, CSV file I/O (e.g. pd.read_csv)\n",
    "from tqdm import tqdm\n",
    "import math\n",
    "from sklearn.model_selection import train_test_split\n",
    "from sklearn import metrics\n",
    "\n",
    "from keras.preprocessing.text import Tokenizer\n",
    "from keras.preprocessing.sequence import pad_sequences\n",
    "from keras.layers import Dense, Input, CuDNNLSTM, Embedding, Dropout, Activation, CuDNNGRU, Conv1D\n",
    "from keras.layers import Bidirectional, GlobalMaxPool1D, Flatten, GlobalAveragePooling1D, Reshape\n",
    "from keras.optimizers import Adam\n",
    "from keras.models import Model\n",
    "from keras import backend as K\n",
    "from keras.engine.topology import Layer\n",
    "from keras import initializers, regularizers, constraints, optimizers, layers"
   ]
  },
  {
   "cell_type": "code",
   "execution_count": 175,
   "metadata": {},
   "outputs": [],
   "source": [
    "class Attention(Layer):\n",
    "    def __init__(self, step_dim,\n",
    "                 W_regularizer=None, b_regularizer=None,\n",
    "                 W_constraint=None, b_constraint=None,\n",
    "                 bias=True, **kwargs):\n",
    "        self.supports_masking = True\n",
    "        self.init = initializers.get('glorot_uniform')\n",
    "\n",
    "        self.W_regularizer = regularizers.get(W_regularizer)\n",
    "        self.b_regularizer = regularizers.get(b_regularizer)\n",
    "\n",
    "        self.W_constraint = constraints.get(W_constraint)\n",
    "        self.b_constraint = constraints.get(b_constraint)\n",
    "\n",
    "        self.bias = bias\n",
    "        self.step_dim = step_dim\n",
    "        self.features_dim = 0\n",
    "        super(Attention, self).__init__(**kwargs)\n",
    "\n",
    "    def build(self, input_shape):\n",
    "        assert len(input_shape) == 3\n",
    "\n",
    "        self.W = self.add_weight((input_shape[-1],),\n",
    "                                 initializer=self.init,\n",
    "                                 name='{}_W'.format(self.name),\n",
    "                                 regularizer=self.W_regularizer,\n",
    "                                 constraint=self.W_constraint)\n",
    "        self.features_dim = input_shape[-1]\n",
    "\n",
    "        if self.bias:\n",
    "            self.b = self.add_weight((input_shape[1],),\n",
    "                                     initializer='zero',\n",
    "                                     name='{}_b'.format(self.name),\n",
    "                                     regularizer=self.b_regularizer,\n",
    "                                     constraint=self.b_constraint)\n",
    "        else:\n",
    "            self.b = None\n",
    "\n",
    "        self.built = True\n",
    "\n",
    "    def compute_mask(self, input, input_mask=None):\n",
    "        return None\n",
    "\n",
    "    def call(self, x, mask=None):\n",
    "        features_dim = self.features_dim\n",
    "        step_dim = self.step_dim\n",
    "\n",
    "        eij = K.reshape(K.dot(K.reshape(x, (-1, features_dim)),\n",
    "                        K.reshape(self.W, (features_dim, 1))), (-1, step_dim))\n",
    "\n",
    "        if self.bias:\n",
    "            eij += self.b\n",
    "\n",
    "        eij = K.tanh(eij)\n",
    "\n",
    "        a = K.exp(eij)\n",
    "\n",
    "        if mask is not None:\n",
    "            a *= K.cast(mask, K.floatx())\n",
    "\n",
    "        a /= K.cast(K.sum(a, axis=1, keepdims=True) + K.epsilon(), K.floatx())\n",
    "\n",
    "        a = K.expand_dims(a)\n",
    "        weighted_input = x * a\n",
    "        return K.sum(weighted_input, axis=1)\n",
    "\n",
    "    def compute_output_shape(self, input_shape):\n",
    "        return input_shape[0],  self.features_dim"
   ]
  },
  {
   "cell_type": "code",
   "execution_count": 207,
   "metadata": {},
   "outputs": [],
   "source": [
    "# text_input_layer = Input(shape=(len_max,), dtype='int32')\n",
    "# doc_embedding   = Embedding(len(list(unique_words)),\n",
    "#                             300,\n",
    "#                             embeddings_initializer=Constant(embedding_matrix),\n",
    "#                             input_length=len_max,\n",
    "#                             trainable=True)(text_input_layer)\n",
    "\n",
    "# convs = []\n",
    "# filter_sizes = [4, 5]\n",
    "# # filter_sizes = [5]\n",
    "\n",
    "# l_conv = Conv1D(filters=128, kernel_size=[3], padding='valid', activation='relu')(doc_embedding)\n",
    "\n",
    "# for filter_size in filter_sizes:\n",
    "#     l_conv = Conv1D(filters=128, kernel_size=filter_size, padding='valid', activation='relu')(l_conv)\n",
    "#     convs.append(l_conv)\n",
    "# cnn_feature_maps = convs\n",
    "\n",
    "# reg_drop = Dropout(0.3)(l_conv)\n",
    "# flat = Flatten()(reg_drop)\n",
    "# sentence_encoder1 = Bidirectional(LSTM(128,return_sequences=True))(reg_drop)\n",
    "# sentence_encoder2 = Bidirectional(LSTM(128,return_sequences=True))(sentence_encoder1)\n",
    "# att = Attention(91)(sentence_encoder2)\n",
    "# drop = Dropout(0.3)(att)\n",
    "# fc_layer =Dense(128, activation=\"relu\")(drop)\n",
    "\n",
    "# output_layer = Dense(2,activation=\"softmax\")(fc_layer)\n",
    "\n",
    "# model = Model(inputs=[text_input_layer], outputs=[output_layer])"
   ]
  },
  {
   "cell_type": "code",
   "execution_count": 239,
   "metadata": {},
   "outputs": [
    {
     "name": "stdout",
     "output_type": "stream",
     "text": [
      "_________________________________________________________________\n",
      "Layer (type)                 Output Shape              Param #   \n",
      "=================================================================\n",
      "embedding_11 (Embedding)     (None, 100, 300)          2112600   \n",
      "_________________________________________________________________\n",
      "lstm_19 (LSTM)               (None, 100, 128)          219648    \n",
      "_________________________________________________________________\n",
      "lstm_20 (LSTM)               (None, 64)                49408     \n",
      "_________________________________________________________________\n",
      "dense_20 (Dense)             (None, 100)               6500      \n",
      "_________________________________________________________________\n",
      "dropout_14 (Dropout)         (None, 100)               0         \n",
      "_________________________________________________________________\n",
      "dense_21 (Dense)             (None, 2)                 202       \n",
      "=================================================================\n",
      "Total params: 2,388,358\n",
      "Trainable params: 2,388,358\n",
      "Non-trainable params: 0\n",
      "_________________________________________________________________\n"
     ]
    }
   ],
   "source": [
    "early_stopping = EarlyStopping(min_delta = 0.001, mode = 'max', monitor='val_acc', patience = 10)\n",
    "callback = [early_stopping]\n",
    "\n",
    "#Model using Keras LSTM\n",
    "model=Sequential()\n",
    "model.add(Embedding(len(list(unique_words)),300,input_length=len_max))\n",
    "model.add(LSTM(128,dropout=0.5, recurrent_dropout=0.5,return_sequences=True))\n",
    "model.add(LSTM(64,dropout=0.5, recurrent_dropout=0.5,return_sequences=False))\n",
    "# model.add(Attention(100))\n",
    "# model.add(Dropout(0.5))\n",
    "model.add(Dense(100,activation='relu'))\n",
    "model.add(Dropout(0.5))\n",
    "model.add(Dense(2,activation='softmax'))\n",
    "model.compile(loss='categorical_crossentropy',optimizer=Adam(lr=0.005),metrics=['accuracy'])\n",
    "model.summary()"
   ]
  },
  {
   "cell_type": "code",
   "execution_count": 240,
   "metadata": {},
   "outputs": [],
   "source": [
    "checkpoint=ModelCheckpoint('model_self_embedding_final.h5',monitor='val_loss',verbose=0,save_best_only=True,mode='auto')"
   ]
  },
  {
   "cell_type": "code",
   "execution_count": 241,
   "metadata": {},
   "outputs": [],
   "source": [
    "output1 = model.layers[-2].output\n",
    "# dense2 = Dense(300, activation='relu', name='layer_2')(output1)\n",
    "input4 = Input(shape=(64,))\n",
    "dense3 = Dense(50, activation='relu', name='layer_3')(input4)\n",
    "merged = concatenate([output1, dense3])\n",
    "pre_final = Dense(50, activation='relu', name='pre_final')(merged)\n",
    "output = layers.Dense(2, activation=\"softmax\", name=\"softmax_layer0\")(pre_final)"
   ]
  },
  {
   "cell_type": "code",
   "execution_count": 242,
   "metadata": {},
   "outputs": [],
   "source": [
    "model_fin = Model(inputs = [model.input, input4], outputs = [output])"
   ]
  },
  {
   "cell_type": "code",
   "execution_count": 243,
   "metadata": {},
   "outputs": [],
   "source": [
    "X_full = np.concatenate((X_train, X_test))"
   ]
  },
  {
   "cell_type": "code",
   "execution_count": 244,
   "metadata": {},
   "outputs": [],
   "source": [
    "Y_full = np.concatenate((Y_train, Y_test))"
   ]
  },
  {
   "cell_type": "code",
   "execution_count": 245,
   "metadata": {},
   "outputs": [
    {
     "name": "stdout",
     "output_type": "stream",
     "text": [
      "Train on 3127 samples, validate on 348 samples\n",
      "Epoch 1/20\n",
      "3127/3127 [==============================] - 35s 11ms/step - loss: 0.6793 - sparse_categorical_accuracy: 0.5971 - val_loss: 0.6385 - val_sparse_categorical_accuracy: 0.6782\n",
      "\n",
      "Epoch 00001: val_sparse_categorical_accuracy improved from -inf to 0.67816, saving model to comb_model.hdf5\n",
      "Epoch 2/20\n",
      "3127/3127 [==============================] - 23s 7ms/step - loss: 0.6546 - sparse_categorical_accuracy: 0.6278 - val_loss: 0.6421 - val_sparse_categorical_accuracy: 0.6638\n",
      "\n",
      "Epoch 00002: val_sparse_categorical_accuracy did not improve from 0.67816\n",
      "Epoch 3/20\n",
      "3127/3127 [==============================] - 22s 7ms/step - loss: 0.6362 - sparse_categorical_accuracy: 0.6377 - val_loss: 0.6588 - val_sparse_categorical_accuracy: 0.6437\n",
      "\n",
      "Epoch 00003: val_sparse_categorical_accuracy did not improve from 0.67816\n",
      "Epoch 4/20\n",
      "3127/3127 [==============================] - 23s 7ms/step - loss: 0.5747 - sparse_categorical_accuracy: 0.6952 - val_loss: 0.8140 - val_sparse_categorical_accuracy: 0.6322\n",
      "\n",
      "Epoch 00004: val_sparse_categorical_accuracy did not improve from 0.67816\n",
      "Epoch 5/20\n",
      "3127/3127 [==============================] - 23s 7ms/step - loss: 0.4729 - sparse_categorical_accuracy: 0.7854 - val_loss: 0.7478 - val_sparse_categorical_accuracy: 0.6207\n",
      "\n",
      "Epoch 00005: val_sparse_categorical_accuracy did not improve from 0.67816\n",
      "Epoch 6/20\n",
      "3127/3127 [==============================] - 22s 7ms/step - loss: 0.3662 - sparse_categorical_accuracy: 0.8436 - val_loss: 0.8688 - val_sparse_categorical_accuracy: 0.6149\n",
      "\n",
      "Epoch 00006: val_sparse_categorical_accuracy did not improve from 0.67816\n",
      "Epoch 7/20\n",
      "3127/3127 [==============================] - 22s 7ms/step - loss: 0.2777 - sparse_categorical_accuracy: 0.8916 - val_loss: 1.0233 - val_sparse_categorical_accuracy: 0.5287\n",
      "\n",
      "Epoch 00007: val_sparse_categorical_accuracy did not improve from 0.67816\n",
      "Epoch 8/20\n",
      "3127/3127 [==============================] - 22s 7ms/step - loss: 0.2040 - sparse_categorical_accuracy: 0.9226 - val_loss: 1.1500 - val_sparse_categorical_accuracy: 0.6063\n",
      "\n",
      "Epoch 00008: val_sparse_categorical_accuracy did not improve from 0.67816\n",
      "Epoch 9/20\n",
      "3127/3127 [==============================] - 23s 7ms/step - loss: 0.1664 - sparse_categorical_accuracy: 0.9373 - val_loss: 1.0711 - val_sparse_categorical_accuracy: 0.6264\n",
      "\n",
      "Epoch 00009: val_sparse_categorical_accuracy did not improve from 0.67816\n",
      "Epoch 10/20\n",
      "3127/3127 [==============================] - 24s 8ms/step - loss: 0.1318 - sparse_categorical_accuracy: 0.9524 - val_loss: 1.4479 - val_sparse_categorical_accuracy: 0.6092\n",
      "\n",
      "Epoch 00010: val_sparse_categorical_accuracy did not improve from 0.67816\n",
      "Epoch 11/20\n",
      "3127/3127 [==============================] - 24s 8ms/step - loss: 0.1084 - sparse_categorical_accuracy: 0.9619 - val_loss: 1.6557 - val_sparse_categorical_accuracy: 0.6121\n",
      "\n",
      "Epoch 00011: val_sparse_categorical_accuracy did not improve from 0.67816\n"
     ]
    }
   ],
   "source": [
    "adam = ko.Nadam()\n",
    "model_fin.compile(adam, loss=\"sparse_categorical_crossentropy\", metrics=[\"sparse_categorical_accuracy\",])\n",
    "\n",
    "file_path = \"comb_model.hdf5\"\n",
    "check_point = kc.ModelCheckpoint(file_path, monitor = \"val_sparse_categorical_accuracy\", verbose = 1, save_best_only = True, mode = \"max\")\n",
    "early_stop = kc.EarlyStopping(monitor = \"val_sparse_categorical_accuracy\", mode = \"max\", patience=10)\n",
    "history = model_fin.fit([X_full,embs],Y_full,validation_split=0.1, batch_size=500, epochs=20, callbacks = [check_point, early_stop])\n",
    "\n",
    "# histories.append(np.max(np.asarray(history.history['val_sparse_categorical_accuracy'])))\n",
    "# iterations.append(np.argmax(np.asarray(history.history['val_sparse_categorical_accuracy'])))"
   ]
  },
  {
   "cell_type": "code",
   "execution_count": 246,
   "metadata": {},
   "outputs": [],
   "source": [
    "pred_val = model_fin.predict([X_test, embs[3000:]])"
   ]
  },
  {
   "cell_type": "code",
   "execution_count": 247,
   "metadata": {},
   "outputs": [],
   "source": [
    "pred_val = pred_val.argmax(axis=1)"
   ]
  },
  {
   "cell_type": "code",
   "execution_count": 248,
   "metadata": {},
   "outputs": [],
   "source": [
    "true = data_test[:,1]"
   ]
  },
  {
   "cell_type": "code",
   "execution_count": 249,
   "metadata": {},
   "outputs": [],
   "source": [
    "final = pd.DataFrame()\n",
    "final['true'] = true.astype(int)\n",
    "final['pred'] = pred_val.astype(int)"
   ]
  },
  {
   "cell_type": "code",
   "execution_count": 250,
   "metadata": {},
   "outputs": [
    {
     "data": {
      "text/plain": [
       "array([0.79, 0.53])"
      ]
     },
     "execution_count": 250,
     "metadata": {},
     "output_type": "execute_result"
    }
   ],
   "source": [
    "f1_score(final['true'],final['pred'], average=None)"
   ]
  },
  {
   "cell_type": "code",
   "execution_count": 251,
   "metadata": {},
   "outputs": [
    {
     "name": "stdout",
     "output_type": "stream",
     "text": [
      "              precision    recall  f1-score   support\n",
      "\n",
      "           0       0.78      0.81      0.79       323\n",
      "           1       0.56      0.51      0.53       152\n",
      "\n",
      "    accuracy                           0.71       475\n",
      "   macro avg       0.67      0.66      0.66       475\n",
      "weighted avg       0.71      0.71      0.71       475\n",
      "\n"
     ]
    }
   ],
   "source": [
    "print(classification_report(final['true'], final['pred']))"
   ]
  },
  {
   "cell_type": "code",
   "execution_count": 252,
   "metadata": {},
   "outputs": [],
   "source": [
    "model_emb_self = Model(inputs=model_fin.inputs, outputs=[model.layers[-3].output])"
   ]
  },
  {
   "cell_type": "code",
   "execution_count": 253,
   "metadata": {},
   "outputs": [],
   "source": [
    "embs_train = model_emb_self.predict([X_train,embs[:3000]])"
   ]
  },
  {
   "cell_type": "code",
   "execution_count": 254,
   "metadata": {},
   "outputs": [],
   "source": [
    "embs_test = model_emb_self.predict([X_test, embs[3000:]])"
   ]
  },
  {
   "cell_type": "code",
   "execution_count": 255,
   "metadata": {},
   "outputs": [],
   "source": [
    "embs_fin = np.concatenate((embs_train, embs_test))"
   ]
  },
  {
   "cell_type": "code",
   "execution_count": 268,
   "metadata": {},
   "outputs": [],
   "source": [
    "tsne_model = TSNE(perplexity=10, n_components=2, init='pca', n_iter=5000)\n",
    "new_values = tsne_model.fit_transform(embs_fin)"
   ]
  },
  {
   "cell_type": "code",
   "execution_count": 269,
   "metadata": {},
   "outputs": [],
   "source": [
    "x = []\n",
    "y = []\n",
    "for value in new_values:\n",
    "    x.append(value[0])\n",
    "    y.append(value[1])"
   ]
  },
  {
   "cell_type": "code",
   "execution_count": 270,
   "metadata": {},
   "outputs": [],
   "source": [
    "colors = ['red','green']"
   ]
  },
  {
   "cell_type": "code",
   "execution_count": 271,
   "metadata": {},
   "outputs": [
    {
     "data": {
      "image/png": "[encoded data removed]",
      "text/plain": [
       "<Figure size 576x576 with 1 Axes>"
      ]
     },
     "metadata": {
      "needs_background": "light"
     },
     "output_type": "display_data"
    }
   ],
   "source": [
    "plt.figure(figsize=(8, 8)) \n",
    "plt.scatter(x, y, c=labels, cmap=matplotlib.colors.ListedColormap(colors))\n",
    "plt.show()"
   ]
  },
  {
   "cell_type": "code",
   "execution_count": 276,
   "metadata": {},
   "outputs": [],
   "source": [
    "a = np.array([1,2,3])\n",
    "b = np.array([1,2])"
   ]
  },
  {
   "cell_type": "code",
   "execution_count": 277,
   "metadata": {},
   "outputs": [],
   "source": [
    "c = np.array([a,b])"
   ]
  },
  {
   "cell_type": "code",
   "execution_count": 278,
   "metadata": {},
   "outputs": [
    {
     "data": {
      "text/plain": [
       "(2,)"
      ]
     },
     "execution_count": 278,
     "metadata": {},
     "output_type": "execute_result"
    }
   ],
   "source": [
    "c.shape"
   ]
  },
  {
   "cell_type": "code",
   "execution_count": 280,
   "metadata": {},
   "outputs": [
    {
     "data": {
      "text/plain": [
       "(2,)"
      ]
     },
     "execution_count": 280,
     "metadata": {},
     "output_type": "execute_result"
    }
   ],
   "source": [
    "c[1].shape"
   ]
  },
  {
   "cell_type": "code",
   "execution_count": 281,
   "metadata": {},
   "outputs": [
    {
     "data": {
      "text/plain": [
       "numpy.ndarray"
      ]
     },
     "execution_count": 281,
     "metadata": {},
     "output_type": "execute_result"
    }
   ],
   "source": [
    "type(c)"
   ]
  },
  {
   "cell_type": "code",
   "execution_count": null,
   "metadata": {},
   "outputs": [],
   "source": []
  }
 ],
 "metadata": {
  "kernelspec": {
   "display_name": "Python 3 (ipykernel)",
   "language": "python",
   "name": "python3"
  },
  "language_info": {
   "codemirror_mode": {
    "name": "ipython",
    "version": 3
   },
   "file_extension": ".py",
   "mimetype": "text/x-python",
   "name": "python",
   "nbconvert_exporter": "python",
   "pygments_lexer": "ipython3",
   "version": "3.9.9"
  }
 },
 "nbformat": 4,
 "nbformat_minor": 2
}
