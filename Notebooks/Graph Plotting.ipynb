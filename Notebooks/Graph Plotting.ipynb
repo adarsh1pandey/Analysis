{
 "cells": [
  {
   "cell_type": "code",
   "execution_count": 2,
   "metadata": {},
   "outputs": [],
   "source": [
    "import matplotlib.pyplot as plt\n",
    "%matplotlib inline"
   ]
  },
  {
   "cell_type": "code",
   "execution_count": 3,
   "metadata": {},
   "outputs": [],
   "source": [
    "labels = ['Gender', 'Religion', 'Location', 'Profane', 'Race']\n",
    "nums = [0.425, 0.623, 0.568, 0.845, 0.732]\n",
    "stddev = [0.321, 0.258, 0.383, 0.15, 0.209]"
   ]
  },
  {
   "cell_type": "code",
   "execution_count": 4,
   "metadata": {},
   "outputs": [],
   "source": [
    "import numpy as np\n",
    "y = np.ones((5,))"
   ]
  },
  {
   "cell_type": "code",
   "execution_count": 8,
   "metadata": {},
   "outputs": [
    {
     "data": {
      "image/png": "[encoded data removed]",
      "text/plain": [
       "<Figure size 288x216 with 1 Axes>"
      ]
     },
     "metadata": {
      "needs_background": "light"
     },
     "output_type": "display_data"
    }
   ],
   "source": [
    "\n",
    "fig, ax = plt.subplots(figsize=(4,3))\n",
    "# plt.figure(figsize=(4,3))\n",
    "# plt.figure(frameon=False)\n",
    "ax.spines['top'].set_visible(False)\n",
    "ax.spines['right'].set_visible(False)\n",
    "ax.spines['bottom'].set_visible(False)\n",
    "ax.spines['left'].set_visible(False)\n",
    "plt.bar(labels,nums, yerr=stddev, color='magenta', width=0.5)\n",
    "# plt.title(\"Passengers\")\n",
    "plt.xlabel(\"Category of words present\")\n",
    "plt.ylabel(\"Average Confidence\")\n",
    "plt.show()"
   ]
  },
  {
   "cell_type": "code",
   "execution_count": 10,
   "metadata": {},
   "outputs": [],
   "source": [
    "list1 = [0,1,2,3,4,5,6,7,8,9,10,11,12,13,14]\n",
    "list2 = [0.43, 0.58, 0.66, 0.78, 0.90, 0.92, 0.93, 0.96, 0.96, 0.97, 0.98, 0.98, 0.98, 0.98, 0.98]\n",
    "list3 = [1,1,1,1,1,1,1,1,1,1,1,1,1,1,1]"
   ]
  },
  {
   "cell_type": "code",
   "execution_count": 11,
   "metadata": {},
   "outputs": [
    {
     "data": {
      "text/plain": [
       "(15, 15, 15)"
      ]
     },
     "execution_count": 11,
     "metadata": {},
     "output_type": "execute_result"
    }
   ],
   "source": [
    "len(list1), len(list2), len(list3)"
   ]
  },
  {
   "cell_type": "code",
   "execution_count": 12,
   "metadata": {},
   "outputs": [
    {
     "data": {
      "text/plain": [
       "Text(0, 0.5, 'Average Confidence')"
      ]
     },
     "execution_count": 12,
     "metadata": {},
     "output_type": "execute_result"
    },
    {
     "data": {
      "image/png": "[encoded data removed]",
      "text/plain": [
       "<Figure size 432x288 with 1 Axes>"
      ]
     },
     "metadata": {
      "needs_background": "light"
     },
     "output_type": "display_data"
    }
   ],
   "source": [
    "fig, ax = plt.subplots()\n",
    "# plt.figure(figsize=(4,3))\n",
    "# plt.figure(frameon=False)\n",
    "ax.spines['top'].set_visible(False)\n",
    "ax.spines['right'].set_visible(False)\n",
    "ax.spines['bottom'].set_visible(False)\n",
    "ax.spines['left'].set_visible(False)\n",
    "plt.ylim(0.0, 1.2)\n",
    "plt.xlim(0,14)\n",
    "plt.plot(list1, list2,color='magenta' )\n",
    "plt.plot(list1, list3, linestyle='--', color='gray')\n",
    "plt.fill_between(list1, list2, alpha=0.2, color = 'magenta')\n",
    "plt.xlabel(\"Density of Profane Words\")\n",
    "plt.ylabel(\"Average Confidence\")"
   ]
  },
  {
   "cell_type": "code",
   "execution_count": 1,
   "metadata": {},
   "outputs": [],
   "source": [
    "import pandas as pd"
   ]
  },
  {
   "cell_type": "code",
   "execution_count": 5,
   "metadata": {},
   "outputs": [],
   "source": [
    "data = pd.read_csv('final_data.csv')"
   ]
  },
  {
   "cell_type": "code",
   "execution_count": 6,
   "metadata": {},
   "outputs": [
    {
     "data": {
      "text/html": [
       "<div>\n",
       "<style scoped>\n",
       "    .dataframe tbody tr th:only-of-type {\n",
       "        vertical-align: middle;\n",
       "    }\n",
       "\n",
       "    .dataframe tbody tr th {\n",
       "        vertical-align: top;\n",
       "    }\n",
       "\n",
       "    .dataframe thead th {\n",
       "        text-align: right;\n",
       "    }\n",
       "</style>\n",
       "<table border=\"1\" class=\"dataframe\">\n",
       "  <thead>\n",
       "    <tr style=\"text-align: right;\">\n",
       "      <th></th>\n",
       "      <th>Unnamed: 0</th>\n",
       "      <th>label</th>\n",
       "      <th>user</th>\n",
       "      <th>tweet</th>\n",
       "      <th>emb</th>\n",
       "      <th>text</th>\n",
       "      <th>lemmas</th>\n",
       "    </tr>\n",
       "  </thead>\n",
       "  <tbody>\n",
       "    <tr>\n",
       "      <td>0</td>\n",
       "      <td>0</td>\n",
       "      <td>0</td>\n",
       "      <td>1615850780</td>\n",
       "      <td>929479629840281601</td>\n",
       "      <td>[ 0.00447152 -0.00207724 -0.00693714 -0.005786...</td>\n",
       "      <td>I am a young person and I am quite open to Pak...</td>\n",
       "      <td>i be muhajir aur mere lye sab se pehly pakista...</td>\n",
       "    </tr>\n",
       "    <tr>\n",
       "      <td>1</td>\n",
       "      <td>1</td>\n",
       "      <td>0</td>\n",
       "      <td>903075788756590593</td>\n",
       "      <td>929467030406758400</td>\n",
       "      <td>[ 0.00511213  0.0066199  -0.00406399 -0.001209...</td>\n",
       "      <td>&lt;User&gt; &lt;User&gt; Doctor Subhash ke PhD in Het Pol...</td>\n",
       "      <td>&lt;user&gt; &lt;user&gt; doctor sab sahi me ke phd in hat...</td>\n",
       "    </tr>\n",
       "    <tr>\n",
       "      <td>2</td>\n",
       "      <td>2</td>\n",
       "      <td>1</td>\n",
       "      <td>881096476616781825</td>\n",
       "      <td>929460995981901825</td>\n",
       "      <td>[-0.6831904   2.609242    2.6378176   2.580363...</td>\n",
       "      <td>After the formation of the government, a singl...</td>\n",
       "      <td>&lt;user&gt; sarkar banne ke bad hindu hit me ek bhi...</td>\n",
       "    </tr>\n",
       "    <tr>\n",
       "      <td>3</td>\n",
       "      <td>3</td>\n",
       "      <td>1</td>\n",
       "      <td>3268145264</td>\n",
       "      <td>929460432498233344</td>\n",
       "      <td>[ 1.6771747   0.14684932 -0.8186511   1.882037...</td>\n",
       "      <td>Hate it when the test is not so frozen</td>\n",
       "      <td>hate it jab test ata ho phr bh acha na ho</td>\n",
       "    </tr>\n",
       "    <tr>\n",
       "      <td>4</td>\n",
       "      <td>4</td>\n",
       "      <td>0</td>\n",
       "      <td>763212669524467712</td>\n",
       "      <td>929459222697431040</td>\n",
       "      <td>[ 1.1214749   3.8859344   3.6560123   2.660346...</td>\n",
       "      <td>&lt;user&gt; One of the victims has been raped and r...</td>\n",
       "      <td>&lt;user&gt; ek dil ek jaan akal ke imitihaan kal kp...</td>\n",
       "    </tr>\n",
       "  </tbody>\n",
       "</table>\n",
       "</div>"
      ],
      "text/plain": [
       "   Unnamed: 0  label                user               tweet  \\\n",
       "0           0      0          1615850780  929479629840281601   \n",
       "1           1      0  903075788756590593  929467030406758400   \n",
       "2           2      1  881096476616781825  929460995981901825   \n",
       "3           3      1          3268145264  929460432498233344   \n",
       "4           4      0  763212669524467712  929459222697431040   \n",
       "\n",
       "                                                 emb  \\\n",
       "0  [ 0.00447152 -0.00207724 -0.00693714 -0.005786...   \n",
       "1  [ 0.00511213  0.0066199  -0.00406399 -0.001209...   \n",
       "2  [-0.6831904   2.609242    2.6378176   2.580363...   \n",
       "3  [ 1.6771747   0.14684932 -0.8186511   1.882037...   \n",
       "4  [ 1.1214749   3.8859344   3.6560123   2.660346...   \n",
       "\n",
       "                                                text  \\\n",
       "0  I am a young person and I am quite open to Pak...   \n",
       "1  <User> <User> Doctor Subhash ke PhD in Het Pol...   \n",
       "2  After the formation of the government, a singl...   \n",
       "3             Hate it when the test is not so frozen   \n",
       "4  <user> One of the victims has been raped and r...   \n",
       "\n",
       "                                              lemmas  \n",
       "0  i be muhajir aur mere lye sab se pehly pakista...  \n",
       "1  <user> <user> doctor sab sahi me ke phd in hat...  \n",
       "2  <user> sarkar banne ke bad hindu hit me ek bhi...  \n",
       "3          hate it jab test ata ho phr bh acha na ho  \n",
       "4  <user> ek dil ek jaan akal ke imitihaan kal kp...  "
      ]
     },
     "execution_count": 6,
     "metadata": {},
     "output_type": "execute_result"
    }
   ],
   "source": [
    "data.head()"
   ]
  },
  {
   "cell_type": "code",
   "execution_count": 8,
   "metadata": {},
   "outputs": [],
   "source": [
    "sents_pos = data[data['label']==0]\n",
    "sents_neg = data[data['label']==1]"
   ]
  },
  {
   "cell_type": "code",
   "execution_count": 10,
   "metadata": {},
   "outputs": [
    {
     "data": {
      "text/html": [
       "<div>\n",
       "<style scoped>\n",
       "    .dataframe tbody tr th:only-of-type {\n",
       "        vertical-align: middle;\n",
       "    }\n",
       "\n",
       "    .dataframe tbody tr th {\n",
       "        vertical-align: top;\n",
       "    }\n",
       "\n",
       "    .dataframe thead th {\n",
       "        text-align: right;\n",
       "    }\n",
       "</style>\n",
       "<table border=\"1\" class=\"dataframe\">\n",
       "  <thead>\n",
       "    <tr style=\"text-align: right;\">\n",
       "      <th></th>\n",
       "      <th>Unnamed: 0</th>\n",
       "      <th>label</th>\n",
       "      <th>user</th>\n",
       "      <th>tweet</th>\n",
       "      <th>emb</th>\n",
       "      <th>text</th>\n",
       "      <th>lemmas</th>\n",
       "    </tr>\n",
       "  </thead>\n",
       "  <tbody>\n",
       "    <tr>\n",
       "      <td>0</td>\n",
       "      <td>0</td>\n",
       "      <td>0</td>\n",
       "      <td>1615850780</td>\n",
       "      <td>929479629840281601</td>\n",
       "      <td>[ 0.00447152 -0.00207724 -0.00693714 -0.005786...</td>\n",
       "      <td>I am a young person and I am quite open to Pak...</td>\n",
       "      <td>i be muhajir aur mere lye sab se pehly pakista...</td>\n",
       "    </tr>\n",
       "    <tr>\n",
       "      <td>1</td>\n",
       "      <td>1</td>\n",
       "      <td>0</td>\n",
       "      <td>903075788756590593</td>\n",
       "      <td>929467030406758400</td>\n",
       "      <td>[ 0.00511213  0.0066199  -0.00406399 -0.001209...</td>\n",
       "      <td>&lt;User&gt; &lt;User&gt; Doctor Subhash ke PhD in Het Pol...</td>\n",
       "      <td>&lt;user&gt; &lt;user&gt; doctor sab sahi me ke phd in hat...</td>\n",
       "    </tr>\n",
       "    <tr>\n",
       "      <td>4</td>\n",
       "      <td>4</td>\n",
       "      <td>0</td>\n",
       "      <td>763212669524467712</td>\n",
       "      <td>929459222697431040</td>\n",
       "      <td>[ 1.1214749   3.8859344   3.6560123   2.660346...</td>\n",
       "      <td>&lt;user&gt; One of the victims has been raped and r...</td>\n",
       "      <td>&lt;user&gt; ek dil ek jaan akal ke imitihaan kal kp...</td>\n",
       "    </tr>\n",
       "    <tr>\n",
       "      <td>6</td>\n",
       "      <td>6</td>\n",
       "      <td>0</td>\n",
       "      <td>119401534</td>\n",
       "      <td>929453273362206721</td>\n",
       "      <td>[-1.7315061  -2.1739635   0.6452544  -0.406033...</td>\n",
       "      <td>&lt;User&gt; User&gt; User&gt; Bee Very sorry, then what i...</td>\n",
       "      <td>&lt;user&gt; &lt;user&gt; &lt;user&gt; i be very sorry to say sa...</td>\n",
       "    </tr>\n",
       "    <tr>\n",
       "      <td>7</td>\n",
       "      <td>7</td>\n",
       "      <td>0</td>\n",
       "      <td>876886531406831616</td>\n",
       "      <td>929443767131684864</td>\n",
       "      <td>[ 0.4069001   1.4904561  -0.5913446   0.379101...</td>\n",
       "      <td>&lt;user&gt; has been able to send me a copy of pure...</td>\n",
       "      <td>&lt;user&gt; madambahut sochsamajhkr mai ess tarq pe...</td>\n",
       "    </tr>\n",
       "  </tbody>\n",
       "</table>\n",
       "</div>"
      ],
      "text/plain": [
       "   Unnamed: 0  label                user               tweet  \\\n",
       "0           0      0          1615850780  929479629840281601   \n",
       "1           1      0  903075788756590593  929467030406758400   \n",
       "4           4      0  763212669524467712  929459222697431040   \n",
       "6           6      0           119401534  929453273362206721   \n",
       "7           7      0  876886531406831616  929443767131684864   \n",
       "\n",
       "                                                 emb  \\\n",
       "0  [ 0.00447152 -0.00207724 -0.00693714 -0.005786...   \n",
       "1  [ 0.00511213  0.0066199  -0.00406399 -0.001209...   \n",
       "4  [ 1.1214749   3.8859344   3.6560123   2.660346...   \n",
       "6  [-1.7315061  -2.1739635   0.6452544  -0.406033...   \n",
       "7  [ 0.4069001   1.4904561  -0.5913446   0.379101...   \n",
       "\n",
       "                                                text  \\\n",
       "0  I am a young person and I am quite open to Pak...   \n",
       "1  <User> <User> Doctor Subhash ke PhD in Het Pol...   \n",
       "4  <user> One of the victims has been raped and r...   \n",
       "6  <User> User> User> Bee Very sorry, then what i...   \n",
       "7  <user> has been able to send me a copy of pure...   \n",
       "\n",
       "                                              lemmas  \n",
       "0  i be muhajir aur mere lye sab se pehly pakista...  \n",
       "1  <user> <user> doctor sab sahi me ke phd in hat...  \n",
       "4  <user> ek dil ek jaan akal ke imitihaan kal kp...  \n",
       "6  <user> <user> <user> i be very sorry to say sa...  \n",
       "7  <user> madambahut sochsamajhkr mai ess tarq pe...  "
      ]
     },
     "execution_count": 10,
     "metadata": {},
     "output_type": "execute_result"
    }
   ],
   "source": [
    "sents_pos.head()"
   ]
  },
  {
   "cell_type": "code",
   "execution_count": 11,
   "metadata": {},
   "outputs": [],
   "source": [
    "sents_pos = sents_pos['lemmas'].values"
   ]
  },
  {
   "cell_type": "code",
   "execution_count": 12,
   "metadata": {},
   "outputs": [],
   "source": [
    "sents_neg = sents_neg['lemmas'].values"
   ]
  },
  {
   "cell_type": "code",
   "execution_count": 43,
   "metadata": {},
   "outputs": [],
   "source": [
    "dist0 = np.load('dist0.npy')"
   ]
  },
  {
   "cell_type": "code",
   "execution_count": 45,
   "metadata": {},
   "outputs": [],
   "source": [
    "dist1 = np.load('dist1.npy')"
   ]
  },
  {
   "cell_type": "code",
   "execution_count": 46,
   "metadata": {},
   "outputs": [],
   "source": [
    "dist2 = np.load('dist2.npy')"
   ]
  },
  {
   "cell_type": "code",
   "execution_count": 56,
   "metadata": {},
   "outputs": [],
   "source": [
    "dist0HS = np.load('dist0-HS.npy')"
   ]
  },
  {
   "cell_type": "code",
   "execution_count": 57,
   "metadata": {},
   "outputs": [],
   "source": [
    "dist1HS = np.load('dist1-HS.npy')"
   ]
  },
  {
   "cell_type": "code",
   "execution_count": 89,
   "metadata": {},
   "outputs": [
    {
     "data": {
      "image/png": "[encoded data removed]",
      "text/plain": [
       "<Figure size 432x288 with 1 Axes>"
      ]
     },
     "metadata": {
      "needs_background": "light"
     },
     "output_type": "display_data"
    }
   ],
   "source": [
    "import seaborn as sns\n",
    "# plt.ylim(0.0, 11.0)\n",
    "# plt.xlim(0.0,1.0)\n",
    "fig, ax = plt.subplots()\n",
    "# plt.figure(frameon=False)\n",
    "ax.spines['top'].set_visible(False)\n",
    "ax.spines['right'].set_visible(False)\n",
    "ax.spines['bottom'].set_visible(False)\n",
    "ax.spines['left'].set_visible(False)\n",
    "plt.xlabel(\"Average Score\")\n",
    "plt.ylabel(\"User Density\")\n",
    "plt.title('User Distribution Plots')\n",
    "# leg.get_frame().set_facecolor('none')\n",
    "# leg.get_frame().set_linewidth(0.0)\n",
    "# leg.draw_frame(False)\n",
    "sns.distplot(dist0, hist = False, kde = True, bins = list1,\n",
    "                 kde_kws = {'shade': True, 'linewidth': 3, 'linestyle': '--'}, color='y', label='Non-Offensive: HEOT')\n",
    "sns.distplot(dist1, hist = False, kde = True, bins = list1,\n",
    "                 kde_kws = {'shade': True, 'linewidth': 3}, color='g', label='Offensive: HEOT')\n",
    "sns.distplot(dist2, hist = False, kde = True, bins = list1,\n",
    "                 kde_kws = {'shade': True, 'linewidth': 3}, color='b', label='Abusive: HEOT')\n",
    "sns.distplot(dist0HS, hist = False, kde = True, bins = list1,\n",
    "                 kde_kws = {'shade': True, 'linewidth': 3, 'linestyle': '--'}, color='m', label='Non-Offensive: HS')\n",
    "sns.distplot(dist1HS, hist = False, kde = True, bins = list1,\n",
    "                 kde_kws = {'shade': True, 'linewidth': 3}, color='r', label='Offensive: HS')\n",
    "plt.legend(framealpha=0.0, frameon=None, fancybox=None, shadow=None)\n",
    "plt.show()"
   ]
  },
  {
   "cell_type": "code",
   "execution_count": null,
   "metadata": {},
   "outputs": [],
   "source": []
  }
 ],
 "metadata": {
  "kernelspec": {
   "display_name": "Python 3",
   "language": "python",
   "name": "python3"
  },
  "language_info": {
   "codemirror_mode": {
    "name": "ipython",
    "version": 3
   },
   "file_extension": ".py",
   "mimetype": "text/x-python",
   "name": "python",
   "nbconvert_exporter": "python",
   "pygments_lexer": "ipython3",
   "version": "3.7.4"
  }
 },
 "nbformat": 4,
 "nbformat_minor": 2
}
