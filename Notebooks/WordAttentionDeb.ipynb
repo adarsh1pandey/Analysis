{
 "cells": [
  {
   "cell_type": "code",
   "execution_count": 2,
   "metadata": {},
   "outputs": [],
   "source": [
    "import tensorflow as tf\n",
    "# tf.enable_eager_execution()"
   ]
  },
  {
   "cell_type": "code",
   "execution_count": 3,
   "metadata": {},
   "outputs": [],
   "source": [
    "import pandas as pd\n",
    "import numpy as np\n",
    "from sklearn.manifold import TSNE\n",
    "import matplotlib.pyplot as plt\n",
    "import matplotlib\n",
    "import numpy as np\n",
    "import pandas as pd\n",
    "from tensorflow.keras.models import Sequential\n",
    "from tensorflow.keras.layers import *\n",
    "from tensorflow.python.keras.utils import np_utils\n",
    "from nltk.tokenize import RegexpTokenizer\n",
    "from tensorflow.keras.models import Model,load_model\n",
    "from tensorflow.keras.callbacks import ModelCheckpoint\n",
    "from nltk.stem import WordNetLemmatizer\n",
    "from tqdm import tqdm\n",
    "from tensorflow.keras.optimizers import Adam\n",
    "from tensorflow.keras.preprocessing.text import Tokenizer\n",
    "from tensorflow.keras.preprocessing import sequence\n",
    "from tensorflow.keras.callbacks import EarlyStopping\n",
    "from tensorflow.keras.callbacks import Callback\n",
    "\n",
    "from sklearn.metrics import confusion_matrix, f1_score, precision_score, recall_score\n",
    "import seaborn as sns\n",
    "from sklearn.feature_extraction import text as sktext\n",
    "from sklearn import preprocessing as skp\n",
    "from tensorflow.keras import callbacks as kc\n",
    "from tensorflow.keras import optimizers as ko\n",
    "from tensorflow.keras import initializers, regularizers, constraints\n",
    "#from tensorflow.keras.engine import Layer\n",
    "import tensorflow.keras.backend as K\n",
    "from sklearn.metrics import f1_score\n",
    "from tensorflow.python.keras.utils.vis_utils import model_to_dot\n",
    "from tensorflow.keras import models\n",
    "from tensorflow.keras import layers\n",
    "from sklearn.metrics import classification_report\n",
    "import matplotlib.pyplot as plt\n",
    "%matplotlib inline\n",
    "\n",
    "import os\n",
    "import time\n",
    "import numpy as np # linear algebra\n",
    "import pandas as pd # data processing, CSV file I/O (e.g. pd.read_csv)\n",
    "from tqdm import tqdm\n",
    "import math\n",
    "from sklearn.model_selection import train_test_split\n",
    "from sklearn import metrics\n",
    "\n",
    "from tensorflow.keras.preprocessing.text import Tokenizer\n",
    "from tensorflow.keras.preprocessing.sequence import pad_sequences\n",
    "from tensorflow.keras.layers import LSTM\n",
    "from tensorflow.keras.layers import Dense, Input, Embedding, Dropout, Activation, GRU, Conv1D\n",
    "from tensorflow.keras.layers import Bidirectional, GlobalMaxPool1D, Flatten, GlobalAveragePooling1D, Reshape\n",
    "from tensorflow.keras.optimizers import Adam\n",
    "from tensorflow.keras.models import Model\n",
    "from tensorflow.keras import backend as K\n",
    "#from tensorflow.python.keras.engine.topology import Layer\n",
    "from tensorflow.keras import initializers, regularizers, constraints, optimizers, layers\n",
    "from tensorflow.keras.initializers import Constant\n"
   ]
  },
  {
   "cell_type": "code",
   "execution_count": 4,
   "metadata": {},
   "outputs": [],
   "source": [
    "# from tensorflow.contrib.cudnn_rnn import CudnnLSTM"
   ]
  },
  {
   "cell_type": "code",
   "execution_count": 5,
   "metadata": {},
   "outputs": [],
   "source": [
    "import os\n",
    "os.environ[\"CUDA_DEVICE_ORDER\"]=\"PCI_BUS_ID\"   # see issue #152\n",
    "os.environ[\"CUDA_VISIBLE_DEVICES\"]=\"2\""
   ]
  },
  {
   "cell_type": "code",
   "execution_count": 6,
   "metadata": {},
   "outputs": [],
   "source": [
    "df = pd.read_csv('final_HEOT_data.csv')\n",
    "train_df = pd.read_csv('processed_HEOT_data.csv')"
   ]
  },
  {
   "cell_type": "code",
   "execution_count": 7,
   "metadata": {},
   "outputs": [
    {
     "data": {
      "text/html": [
       "<div>\n",
       "<style scoped>\n",
       "    .dataframe tbody tr th:only-of-type {\n",
       "        vertical-align: middle;\n",
       "    }\n",
       "\n",
       "    .dataframe tbody tr th {\n",
       "        vertical-align: top;\n",
       "    }\n",
       "\n",
       "    .dataframe thead th {\n",
       "        text-align: right;\n",
       "    }\n",
       "</style>\n",
       "<table border=\"1\" class=\"dataframe\">\n",
       "  <thead>\n",
       "    <tr style=\"text-align: right;\">\n",
       "      <th></th>\n",
       "      <th>Unnamed: 0</th>\n",
       "      <th>content</th>\n",
       "      <th>class</th>\n",
       "    </tr>\n",
       "  </thead>\n",
       "  <tbody>\n",
       "    <tr>\n",
       "      <td>0</td>\n",
       "      <td>0</td>\n",
       "      <td>haa jaise tum bhi abhi</td>\n",
       "      <td>0</td>\n",
       "    </tr>\n",
       "    <tr>\n",
       "      <td>1</td>\n",
       "      <td>1</td>\n",
       "      <td>banti hai empowered woman feminism gyan pelti ...</td>\n",
       "      <td>2</td>\n",
       "    </tr>\n",
       "    <tr>\n",
       "      <td>2</td>\n",
       "      <td>2</td>\n",
       "      <td>usko chhod mjse bat tera baap gya hai ldki bee...</td>\n",
       "      <td>2</td>\n",
       "    </tr>\n",
       "    <tr>\n",
       "      <td>3</td>\n",
       "      <td>3</td>\n",
       "      <td>punjab madarchodon khila raha hai nokrian day ...</td>\n",
       "      <td>2</td>\n",
       "    </tr>\n",
       "    <tr>\n",
       "      <td>4</td>\n",
       "      <td>4</td>\n",
       "      <td>agar koi bole chill maar madarchod gand maar lene</td>\n",
       "      <td>2</td>\n",
       "    </tr>\n",
       "  </tbody>\n",
       "</table>\n",
       "</div>"
      ],
      "text/plain": [
       "   Unnamed: 0                                            content  class\n",
       "0           0                             haa jaise tum bhi abhi      0\n",
       "1           1  banti hai empowered woman feminism gyan pelti ...      2\n",
       "2           2  usko chhod mjse bat tera baap gya hai ldki bee...      2\n",
       "3           3  punjab madarchodon khila raha hai nokrian day ...      2\n",
       "4           4  agar koi bole chill maar madarchod gand maar lene      2"
      ]
     },
     "execution_count": 7,
     "metadata": {},
     "output_type": "execute_result"
    }
   ],
   "source": [
    "train_df.head()"
   ]
  },
  {
   "cell_type": "code",
   "execution_count": 8,
   "metadata": {},
   "outputs": [],
   "source": [
    "train_df['class'] = train_df['class'].astype(int)\n",
    "train_df = train_df.drop(['Unnamed: 0'], axis=1)"
   ]
  },
  {
   "cell_type": "code",
   "execution_count": 9,
   "metadata": {},
   "outputs": [
    {
     "data": {
      "text/plain": [
       "0                                  haa jaise tum bhi abhi\n",
       "1       banti hai empowered woman feminism gyan pelti ...\n",
       "2       usko chhod mjse bat tera baap gya hai ldki bee...\n",
       "3       punjab madarchodon khila raha hai nokrian day ...\n",
       "4       agar koi bole chill maar madarchod gand maar lene\n",
       "                              ...                        \n",
       "3025    dekha tera islamic kashmirijihaadi suar bhai jisk\n",
       "3026                  all love jihaadi should killed aise\n",
       "3027      dekh madarjaat rand aullad tera islamic jihaadi\n",
       "3028        waise jihaadi kutte double maut aane wali hai\n",
       "3029    kya madam abhi tak apne aapne hindu jihaadi bh...\n",
       "Name: content, Length: 3030, dtype: object"
      ]
     },
     "execution_count": 9,
     "metadata": {},
     "output_type": "execute_result"
    }
   ],
   "source": [
    "train_df['content']"
   ]
  },
  {
   "cell_type": "code",
   "execution_count": 10,
   "metadata": {},
   "outputs": [],
   "source": [
    "df['label'] = df['label'].astype(int)"
   ]
  },
  {
   "cell_type": "code",
   "execution_count": 11,
   "metadata": {},
   "outputs": [],
   "source": [
    "df = df.drop(['Unnamed: 0'], axis=1)"
   ]
  },
  {
   "cell_type": "code",
   "execution_count": 12,
   "metadata": {},
   "outputs": [],
   "source": [
    "train_df = pd.DataFrame()\n",
    "train_df['content'] = df['lemmas']\n",
    "train_df['class'] = df['label']"
   ]
  },
  {
   "cell_type": "code",
   "execution_count": 13,
   "metadata": {},
   "outputs": [
    {
     "name": "stdout",
     "output_type": "stream",
     "text": [
      "Training data phrase length distribution\n"
     ]
    },
    {
     "data": {
      "text/plain": [
       "<matplotlib.axes._subplots.AxesSubplot at 0x7f38015a4090>"
      ]
     },
     "execution_count": 13,
     "metadata": {},
     "output_type": "execute_result"
    },
    {
     "data": {
      "image/png": "[encoded data removed]",
      "text/plain": [
       "<Figure size 432x288 with 1 Axes>"
      ]
     },
     "metadata": {
      "needs_background": "light"
     },
     "output_type": "display_data"
    }
   ],
   "source": [
    "print(\"Training data phrase length distribution\")\n",
    "sns.distplot(train_df['content'].map(lambda ele: len(ele)), kde_kws={\"label\": \"train\"})"
   ]
  },
  {
   "cell_type": "code",
   "execution_count": 14,
   "metadata": {},
   "outputs": [
    {
     "name": "stdout",
     "output_type": "stream",
     "text": [
      "Most frequent sentence length in training:\n",
      "55\n"
     ]
    }
   ],
   "source": [
    "print('Most frequent sentence length in training:')\n",
    "lens = train_df['content'].map(lambda ele: len(ele))\n",
    "counts = np.bincount(lens)\n",
    "print(np.argmax(counts))"
   ]
  },
  {
   "cell_type": "code",
   "execution_count": 15,
   "metadata": {},
   "outputs": [
    {
     "name": "stdout",
     "output_type": "stream",
     "text": [
      "Testing data phrase length distribution\n"
     ]
    },
    {
     "data": {
      "text/plain": [
       "<matplotlib.axes._subplots.AxesSubplot at 0x7f3801239b10>"
      ]
     },
     "execution_count": 15,
     "metadata": {},
     "output_type": "execute_result"
    },
    {
     "data": {
      "image/png": "[encoded data removed]",
      "text/plain": [
       "<Figure size 432x288 with 1 Axes>"
      ]
     },
     "metadata": {
      "needs_background": "light"
     },
     "output_type": "display_data"
    }
   ],
   "source": [
    "print(\"Testing data phrase length distribution\")\n",
    "sns.distplot(train_df['content'].map(lambda ele: len(ele)), kde_kws={\"label\": \"test\"})"
   ]
  },
  {
   "cell_type": "code",
   "execution_count": 16,
   "metadata": {},
   "outputs": [
    {
     "data": {
      "text/plain": [
       "(3189, 2)"
      ]
     },
     "execution_count": 16,
     "metadata": {},
     "output_type": "execute_result"
    }
   ],
   "source": [
    "train_df.shape"
   ]
  },
  {
   "cell_type": "code",
   "execution_count": 17,
   "metadata": {},
   "outputs": [],
   "source": [
    "test_df = train_df[2800:]\n",
    "train_df = train_df[:2800]"
   ]
  },
  {
   "cell_type": "code",
   "execution_count": 18,
   "metadata": {},
   "outputs": [
    {
     "name": "stdout",
     "output_type": "stream",
     "text": [
      "Testing data phrase length distribution\n"
     ]
    },
    {
     "data": {
      "text/plain": [
       "<matplotlib.axes._subplots.AxesSubplot at 0x7f3800c84110>"
      ]
     },
     "execution_count": 18,
     "metadata": {},
     "output_type": "execute_result"
    },
    {
     "data": {
      "image/png": "[encoded data removed]",
      "text/plain": [
       "<Figure size 432x288 with 1 Axes>"
      ]
     },
     "metadata": {
      "needs_background": "light"
     },
     "output_type": "display_data"
    }
   ],
   "source": [
    "print(\"Testing data phrase length distribution\")\n",
    "sns.distplot(test_df['content'].map(lambda ele: len(ele)), kde_kws={\"label\": \"test\"})"
   ]
  },
  {
   "cell_type": "code",
   "execution_count": 19,
   "metadata": {},
   "outputs": [
    {
     "name": "stdout",
     "output_type": "stream",
     "text": [
      "Most frequent sentence length in testing:\n",
      "115\n"
     ]
    }
   ],
   "source": [
    "print('Most frequent sentence length in testing:')\n",
    "lens = test_df['content'].map(lambda ele: len(ele))\n",
    "counts = np.bincount(lens)\n",
    "print(np.argmax(counts))"
   ]
  },
  {
   "cell_type": "code",
   "execution_count": 20,
   "metadata": {},
   "outputs": [],
   "source": [
    "punct = \"/-'?!.,#$%\\'()*+-/:;<=>@[\\\\]^_`{|}~\" + '\"\"“”’' + '∞θ÷α•à−β∅³π‘₹´°£€\\×™√²—–&'"
   ]
  },
  {
   "cell_type": "code",
   "execution_count": 21,
   "metadata": {},
   "outputs": [],
   "source": [
    "\n",
    "## A dictionary to map the punctuations present in the text to relevant strings or symbols\n",
    "punct_mapping = {\"‘\": \"'\", \n",
    "                 \"₹\": \"e\", \n",
    "                 \"´\": \"'\", \n",
    "                 \"°\": \"\", \n",
    "                 \"€\": \"e\", \n",
    "                 \"™\": \"tm\",\n",
    "                 \"√\": \" sqrt \",\n",
    "                 \"×\": \"x\",\n",
    "                 \"²\": \"2\",\n",
    "                 \"—\": \"-\",\n",
    "                 \"–\": \"-\",\n",
    "                 \"’\": \"'\",\n",
    "                 \"_\": \"-\",\n",
    "                 \"`\": \"'\",\n",
    "                 '“': '\"',\n",
    "                 '”': '\"',\n",
    "                 '“': '\"',\n",
    "                 \"£\": \"e\",\n",
    "                 '∞': 'infinity',\n",
    "                 'θ': 'theta',\n",
    "                 '÷': '/',\n",
    "                 'α': 'alpha',\n",
    "                 '•': '.',\n",
    "                 'à': 'a',\n",
    "                 '−': '-',\n",
    "                 'β': 'beta',\n",
    "                 '∅': '',\n",
    "                 '³': '3',\n",
    "                 'π': 'pi',\n",
    "                 ',':'',\n",
    "                 '.':'',\n",
    "                 ':':'',\n",
    "                 '(':'',\n",
    "                 ')':'',\n",
    "                 '*':'',\n",
    "                '\"':'',\n",
    "                '<':'',\n",
    "                '>':''}"
   ]
  },
  {
   "cell_type": "code",
   "execution_count": 22,
   "metadata": {},
   "outputs": [],
   "source": [
    "def unknown_punct(embed, punct):\n",
    "    unknown = ''\n",
    "    for p in punct:\n",
    "        if p not in embed:\n",
    "            unknown += p\n",
    "            unknown += ' '\n",
    "    return unknown\n",
    "\n",
    "## Function to remove special characters from the sentences (if any present)\n",
    "def clean_special_chars(text, punct, mapping):\n",
    "    for p in mapping:\n",
    "        text = text.replace(p, mapping[p])\n",
    "    \n",
    "    specials = {'\\u200b': ' ', '…': ' ... ', '\\ufeff': '', 'करना': '', 'है': ''}  # Other special characters that I have to deal with in last\n",
    "    for s in specials:\n",
    "        text = text.replace(s, specials[s])\n",
    "    \n",
    "    return text"
   ]
  },
  {
   "cell_type": "code",
   "execution_count": 23,
   "metadata": {},
   "outputs": [],
   "source": [
    "train_df.loc[:, 'content'] = train_df['content'].map(lambda text: clean_special_chars(text, punct, punct_mapping))\n",
    "test_df.loc[:, 'content'] = test_df['content'].map(lambda text: clean_special_chars(text, punct, punct_mapping))"
   ]
  },
  {
   "cell_type": "code",
   "execution_count": 24,
   "metadata": {},
   "outputs": [],
   "source": [
    "contraction_mapping = {\"ain't\": \"is not\", \"aren't\": \"are not\",\"can't\": \"cannot\", \n",
    "                   \"can't've\": \"cannot have\", \"'cause\": \"because\", \"could've\": \"could have\", \n",
    "                   \"couldn't\": \"could not\", \"couldn't've\": \"could not have\",\"didn't\": \"did not\", \n",
    "                   \"doesn't\": \"does not\", \"don't\": \"do not\", \"hadn't\": \"had not\", \n",
    "                   \"hadn't've\": \"had not have\", \"hasn't\": \"has not\", \"haven't\": \"have not\", \n",
    "                   \"he'd\": \"he would\", \"he'd've\": \"he would have\", \"he'll\": \"he will\", \n",
    "                   \"he'll've\": \"he will have\", \"he's\": \"he is\", \"how'd\": \"how did\", \n",
    "                   \"how'd'y\": \"how do you\", \"how'll\": \"how will\", \"how's\": \"how is\", \n",
    "                   \"I'd\": \"I would\", \"I'd've\": \"I would have\", \"I'll\": \"I will\", \n",
    "                   \"I'll've\": \"I will have\",\"I'm\": \"I am\", \"I've\": \"I have\", \n",
    "                   \"i'd\": \"i would\", \"i'd've\": \"i would have\", \"i'll\": \"i will\", \n",
    "                   \"i'll've\": \"i will have\",\"i'm\": \"i am\", \"i've\": \"i have\", \n",
    "                   \"isn't\": \"is not\", \"it'd\": \"it would\", \"it'd've\": \"it would have\", \n",
    "                   \"it'll\": \"it will\", \"it'll've\": \"it will have\",\"it's\": \"it is\", \n",
    "                   \"let's\": \"let us\", \"ma'am\": \"madam\", \"mayn't\": \"may not\", \n",
    "                   \"might've\": \"might have\",\"mightn't\": \"might not\",\"mightn't've\": \"might not have\", \n",
    "                   \"must've\": \"must have\", \"mustn't\": \"must not\", \"mustn't've\": \"must not have\", \n",
    "                   \"needn't\": \"need not\", \"needn't've\": \"need not have\",\"o'clock\": \"of the clock\", \n",
    "                   \"oughtn't\": \"ought not\", \"oughtn't've\": \"ought not have\", \"shan't\": \"shall not\",\n",
    "                   \"sha'n't\": \"shall not\", \"shan't've\": \"shall not have\", \"she'd\": \"she would\", \n",
    "                   \"she'd've\": \"she would have\", \"she'll\": \"she will\", \"she'll've\": \"she will have\", \n",
    "                   \"she's\": \"she is\", \"should've\": \"should have\", \"shouldn't\": \"should not\", \n",
    "                   \"shouldn't've\": \"should not have\", \"so've\": \"so have\",\"so's\": \"so as\", \n",
    "                   \"this's\": \"this is\",\n",
    "                   \"that'd\": \"that would\", \"that'd've\": \"that would have\",\"that's\": \"that is\", \n",
    "                   \"there'd\": \"there would\", \"there'd've\": \"there would have\",\"there's\": \"there is\", \n",
    "                       \"here's\": \"here is\",\n",
    "                   \"they'd\": \"they would\", \"they'd've\": \"they would have\", \"they'll\": \"they will\", \n",
    "                   \"they'll've\": \"they will have\", \"they're\": \"they are\", \"they've\": \"they have\", \n",
    "                   \"to've\": \"to have\", \"wasn't\": \"was not\", \"we'd\": \"we would\", \n",
    "                   \"we'd've\": \"we would have\", \"we'll\": \"we will\", \"we'll've\": \"we will have\", \n",
    "                   \"we're\": \"we are\", \"we've\": \"we have\", \"weren't\": \"were not\", \n",
    "                   \"what'll\": \"what will\", \"what'll've\": \"what will have\", \"what're\": \"what are\", \n",
    "                   \"what's\": \"what is\", \"what've\": \"what have\", \"when's\": \"when is\", \n",
    "                   \"when've\": \"when have\", \"where'd\": \"where did\", \"where's\": \"where is\", \n",
    "                   \"where've\": \"where have\", \"who'll\": \"who will\", \"who'll've\": \"who will have\", \n",
    "                   \"who's\": \"who is\", \"who've\": \"who have\", \"why's\": \"why is\", \n",
    "                   \"why've\": \"why have\", \"will've\": \"will have\", \"won't\": \"will not\", \n",
    "                   \"won't've\": \"will not have\", \"would've\": \"would have\", \"wouldn't\": \"would not\", \n",
    "                   \"wouldn't've\": \"would not have\", \"y'all\": \"you all\", \"y'all'd\": \"you all would\",\n",
    "                   \"y'all'd've\": \"you all would have\",\"y'all're\": \"you all are\",\"y'all've\": \"you all have\",\n",
    "                   \"you'd\": \"you would\", \"you'd've\": \"you would have\", \"you'll\": \"you will\", \n",
    "                   \"you'll've\": \"you will have\", \"you're\": \"you are\", \"you've\": \"you have\" }"
   ]
  },
  {
   "cell_type": "code",
   "execution_count": 25,
   "metadata": {},
   "outputs": [],
   "source": [
    "def clean_contractions(text, mapping):\n",
    "    specials = [\"’\", \"‘\", \"´\", \"`\"]\n",
    "    for s in specials:\n",
    "        text = text.replace(s, \"'\")\n",
    "    text = ' '.join([mapping[t] if t in mapping else t for t in text.split(\" \")])\n",
    "    return text"
   ]
  },
  {
   "cell_type": "code",
   "execution_count": 26,
   "metadata": {},
   "outputs": [],
   "source": [
    "train_df.loc[:, 'content'] = train_df['content'].map(lambda text: clean_contractions(text, contraction_mapping))\n",
    "test_df.loc[:, 'content'] = test_df['content'].map(lambda text: clean_contractions(text, contraction_mapping))"
   ]
  },
  {
   "cell_type": "code",
   "execution_count": 27,
   "metadata": {},
   "outputs": [],
   "source": [
    "train_df.loc[:, 'content'] = train_df['content'].map(lambda text: text.lower())\n",
    "test_df.loc[:, 'content'] = test_df['content'].map(lambda text: text.lower())"
   ]
  },
  {
   "cell_type": "code",
   "execution_count": 28,
   "metadata": {},
   "outputs": [],
   "source": [
    "data = train_df.values\n",
    "data_test = test_df.values"
   ]
  },
  {
   "cell_type": "code",
   "execution_count": 29,
   "metadata": {},
   "outputs": [
    {
     "name": "stdout",
     "output_type": "stream",
     "text": [
      "(2800,) (2800,) (389,) (389,)\n",
      "-------------------------\n",
      "itna maar khayega man why do not you understand 0\n",
      "user user user user user user user user haa jaise tum bhi abhi pxe2x80xa6 url 0\n"
     ]
    }
   ],
   "source": [
    "X_train = data[:,0]\n",
    "Y_train = data[:,1]\n",
    "\n",
    "X_test = data_test[:,0]\n",
    "Y_test = data_test[:,1]\n",
    "\n",
    "print (X_train.shape, Y_train.shape, X_test.shape, Y_test.shape)\n",
    "print (\"-------------------------\")\n",
    "print (X_test[0], Y_test[0])\n",
    "print (X_train[0], Y_train[0])"
   ]
  },
  {
   "cell_type": "code",
   "execution_count": 30,
   "metadata": {},
   "outputs": [],
   "source": [
    "tokenizer = RegexpTokenizer(\"[a-zA-Z]+\")\n",
    "lemmatizer = WordNetLemmatizer()"
   ]
  },
  {
   "cell_type": "code",
   "execution_count": 31,
   "metadata": {},
   "outputs": [],
   "source": [
    "for ix in range(X_train.shape[0]):\n",
    "    try:\n",
    "        X_train[ix] = tokenizer.tokenize(X_train[ix])\n",
    "        X_train[ix] = [lemmatizer.lemmatize(i) for i in X_train[ix]]\n",
    "    except:\n",
    "        print ( X_train[ix] )\n",
    "    \n",
    "for ix in range(X_test.shape[0]):\n",
    "    X_test[ix] = tokenizer.tokenize(X_test[ix])\n",
    "    X_test[ix] = [lemmatizer.lemmatize(i) for i in X_test[ix]]"
   ]
  },
  {
   "cell_type": "code",
   "execution_count": 32,
   "metadata": {},
   "outputs": [
    {
     "name": "stderr",
     "output_type": "stream",
     "text": [
      "100%|██████████| 2800/2800 [00:00<00:00, 835875.53it/s]"
     ]
    },
    {
     "name": "stdout",
     "output_type": "stream",
     "text": [
      "Vocabulary Size:\n",
      "7656\n",
      "Maximum length of sentence:\n",
      "295\n"
     ]
    },
    {
     "name": "stderr",
     "output_type": "stream",
     "text": [
      "\n"
     ]
    }
   ],
   "source": [
    "\n",
    "unique_words = set()\n",
    "len_max = 0\n",
    "\n",
    "for sent in tqdm(X_train):\n",
    "    \n",
    "    unique_words.update(sent)\n",
    "#     print(sent)\n",
    "    \n",
    "    if(len_max<len(sent)):\n",
    "        len_max = len(sent)\n",
    "        \n",
    "## Length of the list of unique_words gives the no of unique words\n",
    "print(\"Vocabulary Size:\")\n",
    "print(len(list(unique_words)))\n",
    "print(\"Maximum length of sentence:\")\n",
    "print(len_max)"
   ]
  },
  {
   "cell_type": "code",
   "execution_count": 33,
   "metadata": {},
   "outputs": [
    {
     "name": "stdout",
     "output_type": "stream",
     "text": [
      "(2800, 295) (389, 295)\n"
     ]
    }
   ],
   "source": [
    "tokenizer_keras = Tokenizer(num_words=len(list(unique_words)))\n",
    "tokenizer_keras.fit_on_texts(list(X_train))\n",
    "X_train = tokenizer_keras.texts_to_sequences(X_train)\n",
    "X_test = tokenizer_keras.texts_to_sequences(X_test)\n",
    "\n",
    "## Padding done to equalize the lengths of all input reviews. LSTM networks needs all inputs to be same length.\n",
    "## Therefore reviews lesser than max length will be made equal using extra zeros at end. This is padding.\n",
    "X_train = sequence.pad_sequences(X_train, maxlen=len_max, padding = \"post\")\n",
    "X_test = sequence.pad_sequences(X_test, maxlen=len_max, padding = \"post\")\n",
    "print(X_train.shape,X_test.shape)"
   ]
  },
  {
   "cell_type": "code",
   "execution_count": 34,
   "metadata": {},
   "outputs": [],
   "source": [
    "embeddings_index = dict()"
   ]
  },
  {
   "cell_type": "code",
   "execution_count": 35,
   "metadata": {},
   "outputs": [],
   "source": [
    "from gensim.models import Word2Vec\n",
    "from gensim.test.utils import common_texts"
   ]
  },
  {
   "cell_type": "code",
   "execution_count": 36,
   "metadata": {},
   "outputs": [],
   "source": [
    "model = Word2Vec.load(\"word2vec.model\")"
   ]
  },
  {
   "cell_type": "code",
   "execution_count": 37,
   "metadata": {},
   "outputs": [],
   "source": [
    "word_vectors = model.wv"
   ]
  },
  {
   "cell_type": "code",
   "execution_count": 38,
   "metadata": {},
   "outputs": [
    {
     "name": "stdout",
     "output_type": "stream",
     "text": [
      "[list(['user', 'user', 'user', 'user', 'user', 'user', 'user', 'user', 'haa', 'jaise', 'tum', 'bhi', 'abhi', 'pxe', 'x', 'xa', 'url'])\n",
      " list(['banti', 'hai', 'empower', 'woman', 'feminism', 'pe', 'gyan', 'pelti', 'hai', 'aur', 'din', 'bhar', 'roti', 'rehti', 'hai', 'pahle', 'rona', 'band', 'kar', 'madarchod'])\n",
      " list(['rt', 'user', 'user', 'user', 'ab', 'usko', 'chhod', 'mjse', 'bat', 'kr', 'tera', 'baap', 'aa', 'gya', 'hai', 'ab', 'to', 'ldki', 'ko', 'beech', 'me', 'q', 'la', 'ra', 'hai', 'madarchod', 'txe', 'x', 'xa'])\n",
      " ... list(['bjp', 'will', 'win', 'jai', 'ram', 'modi', 'bhagwan'])\n",
      " list(['kya', 'karna', 'hai', 'ab', 'bol'])\n",
      " list(['sab', 'mar', 'jayenge', 'ba', 'main', 'zinda', 'rahunga'])]\n"
     ]
    }
   ],
   "source": [
    "print(data[:,0])"
   ]
  },
  {
   "cell_type": "code",
   "execution_count": 39,
   "metadata": {},
   "outputs": [
    {
     "data": {
      "text/plain": [
       "array([list(['user', 'user', 'user', 'user', 'user', 'user', 'user', 'user', 'haa', 'jaise', 'tum', 'bhi', 'abhi', 'pxe', 'x', 'xa', 'url']),\n",
       "       list(['banti', 'hai', 'empower', 'woman', 'feminism', 'pe', 'gyan', 'pelti', 'hai', 'aur', 'din', 'bhar', 'roti', 'rehti', 'hai', 'pahle', 'rona', 'band', 'kar', 'madarchod']),\n",
       "       list(['rt', 'user', 'user', 'user', 'ab', 'usko', 'chhod', 'mjse', 'bat', 'kr', 'tera', 'baap', 'aa', 'gya', 'hai', 'ab', 'to', 'ldki', 'ko', 'beech', 'me', 'q', 'la', 'ra', 'hai', 'madarchod', 'txe', 'x', 'xa']),\n",
       "       ..., list(['bjp', 'will', 'win', 'jai', 'ram', 'modi', 'bhagwan']),\n",
       "       list(['kya', 'karna', 'hai', 'ab', 'bol']),\n",
       "       list(['sab', 'mar', 'jayenge', 'ba', 'main', 'zinda', 'rahunga'])],\n",
       "      dtype=object)"
      ]
     },
     "execution_count": 39,
     "metadata": {},
     "output_type": "execute_result"
    }
   ],
   "source": [
    "data[:,0]"
   ]
  },
  {
   "cell_type": "code",
   "execution_count": 40,
   "metadata": {},
   "outputs": [],
   "source": [
    "embeddings_index = dict()"
   ]
  },
  {
   "cell_type": "code",
   "execution_count": 41,
   "metadata": {},
   "outputs": [],
   "source": [
    "for sent in data[:,0]:\n",
    "    for token in sent:\n",
    "        word = token\n",
    "        word = lemmatizer.lemmatize(word)\n",
    "        try:\n",
    "            coefs = np.asarray(word_vectors[word], dtype='float32')\n",
    "#             print(coefs)\n",
    "#             print(coefs.shape)\n",
    "            embeddings_index[word] = coefs\n",
    "        except:\n",
    "#             print(word)\n",
    "            coefs = np.zeros((200,))\n",
    "            embeddings_index[word] = coefs"
   ]
  },
  {
   "cell_type": "code",
   "execution_count": null,
   "metadata": {},
   "outputs": [],
   "source": []
  },
  {
   "cell_type": "code",
   "execution_count": null,
   "metadata": {},
   "outputs": [],
   "source": []
  },
  {
   "cell_type": "code",
   "execution_count": null,
   "metadata": {},
   "outputs": [],
   "source": []
  },
  {
   "cell_type": "code",
   "execution_count": 42,
   "metadata": {},
   "outputs": [
    {
     "data": {
      "text/plain": [
       "7654"
      ]
     },
     "execution_count": 42,
     "metadata": {},
     "output_type": "execute_result"
    }
   ],
   "source": [
    "len(embeddings_index)"
   ]
  },
  {
   "cell_type": "code",
   "execution_count": 43,
   "metadata": {},
   "outputs": [],
   "source": [
    "vocab_size=len(list(unique_words))\n",
    "embedding_matrix = np.zeros((vocab_size+1, 200))\n",
    "for word, i in tokenizer_keras.word_index.items():\n",
    "    embedding_vector = embeddings_index.get(word)\n",
    "    if embedding_vector is not None:\n",
    "        embedding_matrix[i] = embedding_vector"
   ]
  },
  {
   "cell_type": "code",
   "execution_count": 44,
   "metadata": {},
   "outputs": [],
   "source": [
    "embed_size = 200\n",
    "max_features = vocab_size + 1 "
   ]
  },
  {
   "cell_type": "code",
   "execution_count": 45,
   "metadata": {},
   "outputs": [],
   "source": [
    "class Attention(Layer):\n",
    "    def __init__(self, step_dim,\n",
    "                 W_regularizer=None, b_regularizer=None,\n",
    "                 W_constraint=None, b_constraint=None,\n",
    "                 bias=True, **kwargs):\n",
    "        self.supports_masking = True\n",
    "        self.init = initializers.get('glorot_uniform')\n",
    "\n",
    "        self.W_regularizer = regularizers.get(W_regularizer)\n",
    "        self.b_regularizer = regularizers.get(b_regularizer)\n",
    "\n",
    "        self.W_constraint = constraints.get(W_constraint)\n",
    "        self.b_constraint = constraints.get(b_constraint)\n",
    "\n",
    "        self.bias = bias\n",
    "        self.step_dim = step_dim\n",
    "        self.features_dim = 0\n",
    "        super(Attention, self).__init__(**kwargs)\n",
    "\n",
    "    def build(self, input_shape):\n",
    "        assert len(input_shape) == 3\n",
    "        print(self.name)\n",
    "        self.W = self.add_weight( shape = (input_shape[-1],),\n",
    "                                 initializer=self.init,\n",
    "                                 name='{}_W'.format(self.name),\n",
    "                                 regularizer=self.W_regularizer,\n",
    "                                 constraint=self.W_constraint)\n",
    "        self.features_dim = input_shape[-1]\n",
    "        if self.bias:\n",
    "            self.b = self.add_weight(shape =(input_shape[1],),\n",
    "                                     initializer='zero',\n",
    "                                     name='{}_b'.format(self.name),\n",
    "                                     regularizer=self.b_regularizer,\n",
    "                                     constraint=self.b_constraint)\n",
    "        else:\n",
    "            self.b = None\n",
    "\n",
    "        self.built = True\n",
    "\n",
    "    def compute_mask(self, input, input_mask=None):\n",
    "        return None\n",
    "\n",
    "    def call(self, x, mask=None):\n",
    "        global attn_softmax\n",
    "        features_dim = self.features_dim\n",
    "        step_dim = self.step_dim\n",
    "\n",
    "        eij = K.reshape(K.dot(K.reshape(x, (-1, features_dim)),\n",
    "                        K.reshape(self.W, (features_dim, 1))), (-1, step_dim))\n",
    "\n",
    "        if self.bias:\n",
    "            eij += self.b\n",
    "\n",
    "        eij = K.tanh(eij)\n",
    "\n",
    "        a = K.exp(eij)\n",
    "\n",
    "        if mask is not None:\n",
    "            a *= K.cast(mask, K.floatx())\n",
    "\n",
    "        a /= K.cast(K.sum(a, axis=1, keepdims=True) + K.epsilon(), K.floatx())\n",
    "        attn_softmax = a\n",
    "        a = K.expand_dims(a)\n",
    "        weighted_input = x * a\n",
    "        return K.sum(weighted_input, axis=1), attn_softmax\n",
    "\n",
    "    def compute_output_shape(self, input_shape):\n",
    "        return input_shape[0],  self.features_dim"
   ]
  },
  {
   "cell_type": "code",
   "execution_count": 46,
   "metadata": {},
   "outputs": [],
   "source": [
    "#Layer.add_weight?"
   ]
  },
  {
   "cell_type": "code",
   "execution_count": 47,
   "metadata": {},
   "outputs": [
    {
     "name": "stdout",
     "output_type": "stream",
     "text": [
      "attention\n",
      "Tensor(\"attention/Identity:0\", shape=(None, 256), dtype=float32)\n"
     ]
    }
   ],
   "source": [
    "text_input_layer = Input(shape=(len_max,), dtype='int32')\n",
    "doc_embedding   = Embedding(len(list(unique_words))+1,\n",
    "                            200,\n",
    "                            embeddings_initializer=Constant(embedding_matrix),\n",
    "                            input_length=len_max,\n",
    "                            trainable=False, mask_zero=True)(text_input_layer)\n",
    "\n",
    "# convs = []\n",
    "# filter_sizes = [4, 5]\n",
    "# filter_sizes = [5]\n",
    "\n",
    "# l_conv = Conv1D(filters=128, kernel_size=[3], padding='valid', activation='relu')(doc_embedding)\n",
    "\n",
    "# for filter_size in filter_sizes:\n",
    "#     l_conv = Conv1D(filters=128, kernel_size=filter_size, padding='valid', activation='relu')(l_conv)\n",
    "#     convs.append(l_conv)\n",
    "# cnn_feature_maps = convs\n",
    "\n",
    "# reg_drop = Dropout(0.3)(l_conv)\n",
    "# flat = Flatten()(reg_drop)\n",
    "sentence_encoder1 = Bidirectional(LSTM(128,return_sequences=True))(doc_embedding)\n",
    "sentence_encoder2 = Bidirectional(LSTM(128,return_sequences=True))(sentence_encoder1)\n",
    "att = Attention(len_max)(sentence_encoder2)[0]\n",
    "print (att)\n",
    "fc_layer = Dense(128, activation=\"relu\")(att)\n",
    "output_layer = Dense(3,activation=\"softmax\")(fc_layer)\n",
    "\n",
    "model_1 = Model(inputs=[text_input_layer], outputs=[output_layer])"
   ]
  },
  {
   "cell_type": "code",
   "execution_count": null,
   "metadata": {},
   "outputs": [],
   "source": []
  },
  {
   "cell_type": "code",
   "execution_count": 48,
   "metadata": {},
   "outputs": [],
   "source": [
    "checkpoint=ModelCheckpoint('model_self_embedding_final.h5',monitor='val_loss',verbose=0,save_best_only=True,mode='auto')"
   ]
  },
  {
   "cell_type": "code",
   "execution_count": 49,
   "metadata": {},
   "outputs": [],
   "source": [
    "X_full = np.concatenate((X_train, X_test))\n",
    "Y_full = np.concatenate((Y_train, Y_test))"
   ]
  },
  {
   "cell_type": "code",
   "execution_count": 50,
   "metadata": {},
   "outputs": [],
   "source": [
    "Y_full = np_utils.to_categorical(Y_full)"
   ]
  },
  {
   "cell_type": "code",
   "execution_count": 51,
   "metadata": {},
   "outputs": [],
   "source": [
    "from sklearn import model_selection\n",
    "x_train, x_test, y_train, y_test = model_selection.train_test_split(X_full, Y_full, random_state=3, test_size=0.2)"
   ]
  },
  {
   "cell_type": "code",
   "execution_count": 52,
   "metadata": {
    "scrolled": true
   },
   "outputs": [
    {
     "name": "stdout",
     "output_type": "stream",
     "text": [
      "Model: \"model\"\n",
      "_________________________________________________________________\n",
      "Layer (type)                 Output Shape              Param #   \n",
      "=================================================================\n",
      "input_1 (InputLayer)         [(None, 295)]             0         \n",
      "_________________________________________________________________\n",
      "embedding (Embedding)        (None, 295, 200)          1531400   \n",
      "_________________________________________________________________\n",
      "bidirectional (Bidirectional (None, 295, 256)          336896    \n",
      "_________________________________________________________________\n",
      "bidirectional_1 (Bidirection (None, 295, 256)          394240    \n",
      "_________________________________________________________________\n",
      "attention (Attention)        ((None, 256), (None, 295) 551       \n",
      "_________________________________________________________________\n",
      "dense (Dense)                (None, 128)               32896     \n",
      "_________________________________________________________________\n",
      "dense_1 (Dense)              (None, 3)                 387       \n",
      "=================================================================\n",
      "Total params: 2,296,370\n",
      "Trainable params: 764,970\n",
      "Non-trainable params: 1,531,400\n",
      "_________________________________________________________________\n"
     ]
    }
   ],
   "source": [
    "model_1.compile(loss='categorical_crossentropy', optimizer=Adam(), metrics=['accuracy'])\n",
    "model_1.summary()"
   ]
  },
  {
   "cell_type": "code",
   "execution_count": 53,
   "metadata": {},
   "outputs": [],
   "source": [
    "file_path = \"weights_base_[C-LSTM]1.best.hdf5\"\n",
    "early_stopping = EarlyStopping(monitor=\"val_acc\", mode=\"max\", patience=10)\n",
    "checkpoint = ModelCheckpoint(file_path, monitor='val_acc', verbose=2, save_best_only=True, mode='max')"
   ]
  },
  {
   "cell_type": "code",
   "execution_count": 774,
   "metadata": {
    "scrolled": true
   },
   "outputs": [
    {
     "name": "stdout",
     "output_type": "stream",
     "text": [
      "Train on 2551 samples, validate on 638 samples\n",
      "Epoch 1/10\n",
      "2544/2551 [============================>.] - ETA: 0s - loss: 0.7424 - accuracy: 0.6942"
     ]
    },
    {
     "name": "stderr",
     "output_type": "stream",
     "text": [
      "WARNING: Logging before flag parsing goes to stderr.\n",
      "W1208 10:09:26.634278 139688705496896 callbacks.py:1250] Early stopping conditioned on metric `val_acc` which is not available. Available metrics are: loss,accuracy,val_loss,val_accuracy\n"
     ]
    },
    {
     "name": "stdout",
     "output_type": "stream",
     "text": [
      "2551/2551 [==============================] - 22s 9ms/sample - loss: 0.7416 - accuracy: 0.6942 - val_loss: 0.6443 - val_accuracy: 0.7273\n",
      "Epoch 2/10\n",
      "2528/2551 [============================>.] - ETA: 0s - loss: 0.5698 - accuracy: 0.7607"
     ]
    },
    {
     "name": "stderr",
     "output_type": "stream",
     "text": [
      "W1208 10:09:31.679663 139688705496896 callbacks.py:1250] Early stopping conditioned on metric `val_acc` which is not available. Available metrics are: loss,accuracy,val_loss,val_accuracy\n"
     ]
    },
    {
     "name": "stdout",
     "output_type": "stream",
     "text": [
      "2551/2551 [==============================] - 5s 2ms/sample - loss: 0.5681 - accuracy: 0.7613 - val_loss: 0.5381 - val_accuracy: 0.7790\n",
      "Epoch 3/10\n",
      "2512/2551 [============================>.] - ETA: 0s - loss: 0.4762 - accuracy: 0.8049"
     ]
    },
    {
     "name": "stderr",
     "output_type": "stream",
     "text": [
      "W1208 10:09:36.856647 139688705496896 callbacks.py:1250] Early stopping conditioned on metric `val_acc` which is not available. Available metrics are: loss,accuracy,val_loss,val_accuracy\n"
     ]
    },
    {
     "name": "stdout",
     "output_type": "stream",
     "text": [
      "2551/2551 [==============================] - 5s 2ms/sample - loss: 0.4772 - accuracy: 0.8052 - val_loss: 0.5181 - val_accuracy: 0.7759\n",
      "Epoch 4/10\n",
      "2528/2551 [============================>.] - ETA: 0s - loss: 0.3848 - accuracy: 0.8477"
     ]
    },
    {
     "name": "stderr",
     "output_type": "stream",
     "text": [
      "W1208 10:09:41.854899 139688705496896 callbacks.py:1250] Early stopping conditioned on metric `val_acc` which is not available. Available metrics are: loss,accuracy,val_loss,val_accuracy\n"
     ]
    },
    {
     "name": "stdout",
     "output_type": "stream",
     "text": [
      "2551/2551 [==============================] - 5s 2ms/sample - loss: 0.3849 - accuracy: 0.8467 - val_loss: 0.4960 - val_accuracy: 0.7915\n",
      "Epoch 5/10\n",
      "2528/2551 [============================>.] - ETA: 0s - loss: 0.3114 - accuracy: 0.8778"
     ]
    },
    {
     "name": "stderr",
     "output_type": "stream",
     "text": [
      "W1208 10:09:46.911319 139688705496896 callbacks.py:1250] Early stopping conditioned on metric `val_acc` which is not available. Available metrics are: loss,accuracy,val_loss,val_accuracy\n"
     ]
    },
    {
     "name": "stdout",
     "output_type": "stream",
     "text": [
      "2551/2551 [==============================] - 5s 2ms/sample - loss: 0.3118 - accuracy: 0.8777 - val_loss: 0.5060 - val_accuracy: 0.7837\n",
      "Epoch 6/10\n",
      "2528/2551 [============================>.] - ETA: 0s - loss: 0.2272 - accuracy: 0.9157"
     ]
    },
    {
     "name": "stderr",
     "output_type": "stream",
     "text": [
      "W1208 10:09:51.981415 139688705496896 callbacks.py:1250] Early stopping conditioned on metric `val_acc` which is not available. Available metrics are: loss,accuracy,val_loss,val_accuracy\n"
     ]
    },
    {
     "name": "stdout",
     "output_type": "stream",
     "text": [
      "2551/2551 [==============================] - 5s 2ms/sample - loss: 0.2264 - accuracy: 0.9161 - val_loss: 0.5757 - val_accuracy: 0.8025\n",
      "Epoch 7/10\n",
      "2544/2551 [============================>.] - ETA: 0s - loss: 0.1742 - accuracy: 0.9285"
     ]
    },
    {
     "name": "stderr",
     "output_type": "stream",
     "text": [
      "W1208 10:09:57.075836 139688705496896 callbacks.py:1250] Early stopping conditioned on metric `val_acc` which is not available. Available metrics are: loss,accuracy,val_loss,val_accuracy\n"
     ]
    },
    {
     "name": "stdout",
     "output_type": "stream",
     "text": [
      "2551/2551 [==============================] - 5s 2ms/sample - loss: 0.1738 - accuracy: 0.9287 - val_loss: 0.6499 - val_accuracy: 0.7915\n",
      "Epoch 8/10\n",
      "2544/2551 [============================>.] - ETA: 0s - loss: 0.1306 - accuracy: 0.9544"
     ]
    },
    {
     "name": "stderr",
     "output_type": "stream",
     "text": [
      "W1208 10:10:02.082492 139688705496896 callbacks.py:1250] Early stopping conditioned on metric `val_acc` which is not available. Available metrics are: loss,accuracy,val_loss,val_accuracy\n"
     ]
    },
    {
     "name": "stdout",
     "output_type": "stream",
     "text": [
      "2551/2551 [==============================] - 5s 2ms/sample - loss: 0.1303 - accuracy: 0.9545 - val_loss: 0.7094 - val_accuracy: 0.7853\n",
      "Epoch 9/10\n",
      "2528/2551 [============================>.] - ETA: 0s - loss: 0.0952 - accuracy: 0.9672"
     ]
    },
    {
     "name": "stderr",
     "output_type": "stream",
     "text": [
      "W1208 10:10:07.195843 139688705496896 callbacks.py:1250] Early stopping conditioned on metric `val_acc` which is not available. Available metrics are: loss,accuracy,val_loss,val_accuracy\n"
     ]
    },
    {
     "name": "stdout",
     "output_type": "stream",
     "text": [
      "2551/2551 [==============================] - 5s 2ms/sample - loss: 0.0946 - accuracy: 0.9675 - val_loss: 0.7625 - val_accuracy: 0.7978\n",
      "Epoch 10/10\n",
      "2544/2551 [============================>.] - ETA: 0s - loss: 0.0525 - accuracy: 0.9819"
     ]
    },
    {
     "name": "stderr",
     "output_type": "stream",
     "text": [
      "W1208 10:10:12.443529 139688705496896 callbacks.py:1250] Early stopping conditioned on metric `val_acc` which is not available. Available metrics are: loss,accuracy,val_loss,val_accuracy\n"
     ]
    },
    {
     "name": "stdout",
     "output_type": "stream",
     "text": [
      "2551/2551 [==============================] - 5s 2ms/sample - loss: 0.0524 - accuracy: 0.9820 - val_loss: 0.8802 - val_accuracy: 0.8025\n"
     ]
    }
   ],
   "source": [
    "hist = model_1.fit(x_train,y_train,validation_data=(x_test,y_test),\n",
    "                epochs = 10, batch_size=16,shuffle=True,callbacks=[early_stopping])"
   ]
  },
  {
   "cell_type": "code",
   "execution_count": 54,
   "metadata": {},
   "outputs": [],
   "source": [
    "#model_1.save_weights( file_path )\n",
    "model_1.load_weights(file_path)"
   ]
  },
  {
   "cell_type": "code",
   "execution_count": 55,
   "metadata": {},
   "outputs": [],
   "source": [
    "out_tensor = model_1.get_layer('attention').output[1]"
   ]
  },
  {
   "cell_type": "code",
   "execution_count": 56,
   "metadata": {},
   "outputs": [
    {
     "name": "stdout",
     "output_type": "stream",
     "text": [
      "Tensor(\"attention/Identity_1:0\", shape=(None, 295), dtype=float32)\n"
     ]
    }
   ],
   "source": [
    "print ( out_tensor )"
   ]
  },
  {
   "cell_type": "code",
   "execution_count": 57,
   "metadata": {},
   "outputs": [],
   "source": [
    "attn_model = tf.keras.Model( model_1.inputs, out_tensor )"
   ]
  },
  {
   "cell_type": "code",
   "execution_count": 58,
   "metadata": {},
   "outputs": [
    {
     "name": "stdout",
     "output_type": "stream",
     "text": [
      "Model: \"model_1\"\n",
      "_________________________________________________________________\n",
      "Layer (type)                 Output Shape              Param #   \n",
      "=================================================================\n",
      "input_1 (InputLayer)         [(None, 295)]             0         \n",
      "_________________________________________________________________\n",
      "embedding (Embedding)        (None, 295, 200)          1531400   \n",
      "_________________________________________________________________\n",
      "bidirectional (Bidirectional (None, 295, 256)          336896    \n",
      "_________________________________________________________________\n",
      "bidirectional_1 (Bidirection (None, 295, 256)          394240    \n",
      "_________________________________________________________________\n",
      "attention (Attention)        ((None, 256), (None, 295) 551       \n",
      "=================================================================\n",
      "Total params: 2,263,087\n",
      "Trainable params: 731,687\n",
      "Non-trainable params: 1,531,400\n",
      "_________________________________________________________________\n"
     ]
    }
   ],
   "source": [
    "attn_model.summary()"
   ]
  },
  {
   "cell_type": "code",
   "execution_count": 59,
   "metadata": {},
   "outputs": [],
   "source": [
    "attn_scores = attn_model.predict(x_train)"
   ]
  },
  {
   "cell_type": "code",
   "execution_count": 60,
   "metadata": {},
   "outputs": [],
   "source": [
    "pos_ind = []\n",
    "for i in range( x_train.shape[0] ):\n",
    "    if ( y_train[i, 1] == 1 ):\n",
    "        pos_ind.append( i )"
   ]
  },
  {
   "cell_type": "code",
   "execution_count": 61,
   "metadata": {},
   "outputs": [],
   "source": [
    "idx = pos_ind[5]"
   ]
  },
  {
   "cell_type": "code",
   "execution_count": 62,
   "metadata": {},
   "outputs": [],
   "source": [
    "seq_list = list( x_train[idx] )"
   ]
  },
  {
   "cell_type": "code",
   "execution_count": 63,
   "metadata": {},
   "outputs": [],
   "source": [
    "reverse_word_map = dict(map(reversed, tokenizer_keras.word_index.items()))"
   ]
  },
  {
   "cell_type": "code",
   "execution_count": 64,
   "metadata": {},
   "outputs": [],
   "source": [
    "def sequence_to_text(list_of_indices):\n",
    "    # Looking up words in dictionary\n",
    "    words = [reverse_word_map.get(letter) for letter in list_of_indices]\n",
    "    return(words)"
   ]
  },
  {
   "cell_type": "code",
   "execution_count": 65,
   "metadata": {},
   "outputs": [],
   "source": [
    "words = sequence_to_text(seq_list)"
   ]
  },
  {
   "cell_type": "code",
   "execution_count": 787,
   "metadata": {},
   "outputs": [],
   "source": [
    "score_word = []"
   ]
  },
  {
   "cell_type": "code",
   "execution_count": 788,
   "metadata": {},
   "outputs": [
    {
     "name": "stdout",
     "output_type": "stream",
     "text": [
      "[0. 1. 0.]\n",
      "user 0.057052553\n",
      "user 0.058783267\n",
      "ur 0.07332669\n",
      "love 0.15272275\n",
      "jihad 0.31010306\n",
      "kashmir 0.3480117\n"
     ]
    }
   ],
   "source": [
    "print(y_train[idx])\n",
    "for ix in range(len(words)):\n",
    "    if ( words[ix] is None ):\n",
    "        continue\n",
    "    score_word.append( (words[ix], attn_scores[idx][ix]) )\n",
    "    print(words[ix], attn_scores[idx][ix])"
   ]
  },
  {
   "cell_type": "code",
   "execution_count": 789,
   "metadata": {},
   "outputs": [],
   "source": [
    "l = sorted(score_word, key = lambda x : x[1], reverse=True )"
   ]
  },
  {
   "cell_type": "code",
   "execution_count": 790,
   "metadata": {},
   "outputs": [
    {
     "name": "stdout",
     "output_type": "stream",
     "text": [
      "[('kashmir', 0.3480117), ('jihad', 0.31010306), ('love', 0.15272275), ('ur', 0.07332669), ('user', 0.058783267), ('user', 0.057052553)]\n"
     ]
    }
   ],
   "source": [
    "print ( l )"
   ]
  },
  {
   "cell_type": "code",
   "execution_count": 791,
   "metadata": {},
   "outputs": [],
   "source": [
    "def get_for_ss(num_words = 5):\n",
    "    for idx in range(30):\n",
    "        i = pos_ind[idx]\n",
    "        score_word = []\n",
    "        seq_list = list( x_train[i] )\n",
    "        words = sequence_to_text(seq_list)\n",
    "        sent = ' '.join( filter(None,words) )\n",
    "        for ix in range(len(words)):\n",
    "            if ( words[ix] is None ):\n",
    "                continue\n",
    "            score_word.append( (words[ix], attn_scores[i][ix]) )\n",
    "        l = sorted(score_word, key = lambda x : x[1], reverse=True )[:num_words]\n",
    "        print (sent)\n",
    "        for w in l:\n",
    "            if w[0] is None:\n",
    "                continue\n",
    "            print ( w[0] + ' : ' + str(w[1]), end = \", \" )\n",
    "        print (\"\\n\")\n",
    "        print ('-'*20)"
   ]
  },
  {
   "cell_type": "code",
   "execution_count": 792,
   "metadata": {
    "scrolled": true
   },
   "outputs": [
    {
     "name": "stdout",
     "output_type": "stream",
     "text": [
      "rt user user user cow be bleed badly after hashtag feed her bomb cow allegedly belong to poor hashtag farmerxe x xa\n",
      "belong : 0.06673543, allegedly : 0.061010767, to : 0.05092514, cow : 0.048959907, bomb : 0.047301095, \n",
      "\n",
      "--------------------\n",
      "rt user keaton racist family get k when he be bully where be you all when somebody in th grade say they could project imax movxe x xa\n",
      "family : 0.062226497, racist : 0.056795634, th : 0.055650428, k : 0.04973293, get : 0.04449343, \n",
      "\n",
      "--------------------\n",
      "user asli maza to uske baad h jab kuch dino baad wahi hindu ma bahen beti apni pati ya baap ko batati h kixe x xa url\n",
      "ko : 0.08068078, baap : 0.079388276, batati : 0.079317555, ya : 0.0778873, h : 0.076935515, \n",
      "\n",
      "--------------------\n",
      "i really love be a mom bring me so much xf x fx x\n",
      "be : 0.15173341, a : 0.14711004, love : 0.141154, mom : 0.13686544, bring : 0.085718945, \n",
      "\n",
      "--------------------\n",
      "user bhai great love\n",
      "love : 0.47424465, great : 0.22692947, bhai : 0.1770751, user : 0.12175071, \n",
      "\n",
      "--------------------\n",
      "user user ur love jihad kashmir\n",
      "kashmir : 0.3480117, jihad : 0.31010306, love : 0.15272275, ur : 0.07332669, user : 0.058783267, \n",
      "\n",
      "--------------------\n",
      "user musalmaan perhasne sepahle soch jara aajpoori duniya ka heerohai\n",
      "jara : 0.16130012, aajpoori : 0.15448399, soch : 0.14023064, duniya : 0.12682994, sepahle : 0.116004735, \n",
      "\n",
      "--------------------\n",
      "user aur kro love\n",
      "love : 0.40957066, kro : 0.3130593, aur : 0.18412487, user : 0.09324515, \n",
      "\n",
      "--------------------\n",
      "jab bhi me dange jase hindu par huye hai jase aur hindu ka dharam x xa url\n",
      "ka : 0.11339039, dharam : 0.11312677, hindu : 0.11260751, x : 0.10693718, aur : 0.09847318, \n",
      "\n",
      "--------------------\n",
      "wtf no thatxe x x s islam hai toh hi toh yeh jihad hai\n",
      "jihad : 0.14249085, hai : 0.13997756, yeh : 0.13287526, toh : 0.1192541, hi : 0.10758076, \n",
      "\n",
      "--------------------\n",
      "meri muslima namazi family user user user user user user user url\n",
      "muslima : 0.1885506, meri : 0.18846852, namazi : 0.18803263, family : 0.18130669, user : 0.061779957, \n",
      "\n",
      "--------------------\n",
      "aur tamam hindu ko ye hu ke ham musalman ki maa ke aur hamre ke x xa url\n",
      "maa : 0.073216826, ke : 0.07305044, ki : 0.072476886, aur : 0.07246715, musalman : 0.06965759, \n",
      "\n",
      "--------------------\n",
      "user user haha sapne dekh hindu ceo bante hai aatankwadi nahi\n",
      "ceo : 0.16659307, hindu : 0.15770842, bante : 0.14594327, hai : 0.1156509, dekh : 0.103631474, \n",
      "\n",
      "--------------------\n",
      "rt user like arnab have a role to play in the murder of afrazul these spread lie about lxe x xa\n",
      "murder : 0.06162859, of : 0.0557514, arnab : 0.053098273, afrazul : 0.05190275, the : 0.051680706, \n",
      "\n",
      "--------------------\n",
      "user user be aatankwadi ki aulad abhi to suruvat hai ji din hum hindu o ki khopadi three hundred and sixty degreexe x xa url\n",
      "ki : 0.11756315, khopadi : 0.11379067, o : 0.11268561, three : 0.10106363, hindu : 0.09102599, \n",
      "\n",
      "--------------------\n",
      "rt user another girl by a and his friend the man salman use a fake to trap the hindxe x xa\n",
      "a : 0.06047315, use : 0.058646437, fake : 0.057661, the : 0.057573408, to : 0.0560925, \n",
      "\n",
      "--------------------\n",
      "user since the accuse be misguide youth from peacefool community\n",
      "accuse : 0.18683907, be : 0.17897376, misguide : 0.14282237, youth : 0.098175175, the : 0.08658733, \n",
      "\n",
      "--------------------\n",
      "user what be your duty save hindu or those who kill mutilate rape n plunder them mentionxe x xa url\n",
      "rape : 0.11500031, mutilate : 0.11325276, n : 0.108641915, plunder : 0.09423502, kill : 0.06974816, \n",
      "\n",
      "--------------------\n",
      "user user aik muslim bhai hi apki ye dekh skta h or koi ni apka hijab or choot\n",
      "choot : 0.095422536, or : 0.09034574, hijab : 0.07609249, koi : 0.06580836, ni : 0.06395838, \n",
      "\n",
      "--------------------\n",
      "user user ek case batado proof ke saath love jihad kya hindu ladke musalmaan ladkiyo ki zindagi nahi barbaad karte\n",
      "ki : 0.09554157, nahi : 0.093030244, ladkiyo : 0.09245039, zindagi : 0.09173713, musalmaan : 0.090673774, \n",
      "\n",
      "--------------------\n",
      "user user user user user ye dekha tera islamic suar bhai x xa url\n",
      "suar : 0.13793571, islamic : 0.13606387, bhai : 0.13385448, tera : 0.1164215, x : 0.10838584, \n",
      "\n",
      "--------------------\n",
      "hum sikh tumhari gaand marenge bitch randi\n",
      "bitch : 0.17247781, gaand : 0.17244664, marenge : 0.17186138, randi : 0.16741228, tumhari : 0.15984067, \n",
      "\n",
      "--------------------\n",
      "user user rahul gandhi masjid hai wo congress k mughal hai jai\n",
      "jai : 0.22822253, hai : 0.21581079, mughal : 0.1720934, k : 0.080810145, congress : 0.04549716, \n",
      "\n",
      "--------------------\n",
      "user sixty saal mei desh ko bhikhari bana diya dadi ke marne pe sardaro ko jala diya dalit dalit chillate rahxe x xa url\n",
      "dalit : 0.13820614, chillate : 0.13297783, dalit : 0.11690782, rahxe : 0.10846702, diya : 0.06068877, \n",
      "\n",
      "--------------------\n",
      "user user user user tere kayii mulle bhai aatankwadi ban rahe hainnunko dila dxe x xa url\n",
      "rahe : 0.13107684, ban : 0.111626916, hainnunko : 0.09903865, aatankwadi : 0.09538444, mulle : 0.09528788, \n",
      "\n",
      "--------------------\n",
      "user ha har hindu ki choot par muslim lund ka naam hai\n",
      "lund : 0.10778909, ka : 0.10691456, muslim : 0.10629437, naam : 0.106156, hai : 0.104051135, \n",
      "\n",
      "--------------------\n",
      "hello friend pm ab gujarat m k name par but gujarat ki x xa url\n",
      "par : 0.105263434, name : 0.10510039, but : 0.10389869, gujarat : 0.10343824, k : 0.095908806, \n",
      "\n",
      "--------------------\n",
      "rt user raj babar be half do not know that be also hindu and not muslim he should ask hum bata dete\n",
      "bata : 0.095041975, hum : 0.094518855, ask : 0.093540825, dete : 0.09353152, should : 0.092975974, \n",
      "\n",
      "--------------------\n",
      "love chutiya musalmaan ka baap\n",
      "musalmaan : 0.23630239, chutiya : 0.23290531, ka : 0.22677472, baap : 0.17305835, love : 0.13095914, \n",
      "\n",
      "--------------------\n",
      "rt user user user user user user musalman hai koi hindu ko x xa\n",
      "ko : 0.15453918, hindu : 0.15360217, x : 0.14751291, koi : 0.13690497, xa : 0.13392328, \n",
      "\n",
      "--------------------\n"
     ]
    }
   ],
   "source": [
    "get_for_ss()"
   ]
  },
  {
   "cell_type": "code",
   "execution_count": 66,
   "metadata": {},
   "outputs": [],
   "source": [
    "def get_for_wc(lbl):\n",
    "    pos_ind = []\n",
    "    score_map = {}\n",
    "    for i in range( y_train.shape[0] ):\n",
    "        if ( int( y_train[i, 1] ) == lbl ):\n",
    "            pos_ind.append( i )\n",
    "    score_word = []\n",
    "    for i in range( len(pos_ind) ):\n",
    "        idx = pos_ind[i]\n",
    "        seq_list = list( x_train[ idx ] )\n",
    "        words = sequence_to_text(seq_list)\n",
    "        for ix in range(len(words)):\n",
    "            if ( words[ix] is None or len( words[ix] ) <= 3 ):\n",
    "                continue\n",
    "            if ( words[ix] == 'user' ):\n",
    "                continue\n",
    "            if ( score_map.get( words[ix] ) is None ):\n",
    "                score_map[ words[ix] ] = []\n",
    "            score_map[ words[ix] ].append( attn_scores[idx][ix] )\n",
    "            #score_word.append( (words[ix], attn_scores[idx][ix]) )\n",
    "    #l = sorted(score_word, key = lambda x : x[1], reverse=True )\n",
    "    #print (l)\n",
    "    for word in list( score_map.keys() ):\n",
    "        score_map[word] = sum( score_map[word] ) / len( score_map[word] )\n",
    "    s_d = sorted(score_map.items(), key=lambda x: x[1], reverse=True)\n",
    "    score_map = {}\n",
    "    for w in s_d:\n",
    "        score_map[ w[0] ] = w[1]\n",
    "    #print (score_map)\n",
    "    return score_map"
   ]
  },
  {
   "cell_type": "code",
   "execution_count": 94,
   "metadata": {},
   "outputs": [],
   "source": [
    "ab_map = get_for_wc(1)"
   ]
  },
  {
   "cell_type": "code",
   "execution_count": 70,
   "metadata": {},
   "outputs": [],
   "source": [
    "words = []\n",
    "for w in list( ab_map.keys() ):\n",
    "    words.append( w )\n",
    "    if w == 'mulle':\n",
    "        break\n",
    "f = open('Attn_POS.txt', 'w')\n",
    "f.write( '\\n'.join(words) )\n",
    "f.close()"
   ]
  },
  {
   "cell_type": "code",
   "execution_count": 141,
   "metadata": {},
   "outputs": [],
   "source": [
    "lex = pd.read_csv('Hinglish_Profanity_List.csv', encoding='unicode_escape', header=None)\n",
    "hate_lexicons = []\n",
    "for word in lex[0]:\n",
    "    hate_lexicons.append(word)\n",
    "hateset = set(hate_lexicons)\n",
    "hateset.add('bhosdike')\n",
    "hateset.add('harami')\n",
    "hateset.add('machod')\n",
    "hateset.add('bhosdi')\n",
    "hateset.add('behenchod')\n",
    "hateset.add('bastard')\n",
    "hateset.add('chodayi')"
   ]
  },
  {
   "cell_type": "code",
   "execution_count": 166,
   "metadata": {},
   "outputs": [],
   "source": [
    "from wordcloud import WordCloud\n",
    "wordcloud_ab = WordCloud(width = 800, height = 800, \n",
    "                background_color ='white', min_font_size = 10, random_state=800)"
   ]
  },
  {
   "cell_type": "code",
   "execution_count": 167,
   "metadata": {},
   "outputs": [
    {
     "data": {
      "text/plain": [
       "<wordcloud.wordcloud.WordCloud at 0x7f35f4445b50>"
      ]
     },
     "execution_count": 167,
     "metadata": {},
     "output_type": "execute_result"
    }
   ],
   "source": [
    "for key in list( ab_map.keys() ):\n",
    "    if key in hateset or key == 'chun' or key == 'liya':\n",
    "        del ab_map[key]\n",
    "wordcloud_ab.fit_words( ab_map )\n",
    "wordcloud_ab.recolor( colormap='Reds' )"
   ]
  },
  {
   "cell_type": "code",
   "execution_count": 168,
   "metadata": {},
   "outputs": [],
   "source": [
    "import matplotlib.pyplot as plt "
   ]
  },
  {
   "cell_type": "code",
   "execution_count": 169,
   "metadata": {},
   "outputs": [
    {
     "data": {
      "image/png": "[encoded data removed]",
      "text/plain": [
       "<Figure size 576x576 with 1 Axes>"
      ]
     },
     "metadata": {
      "needs_background": "light"
     },
     "output_type": "display_data"
    }
   ],
   "source": [
    "plt.figure(figsize = (8, 8), facecolor = None) \n",
    "plt.imshow(wordcloud_ab) \n",
    "plt.axis(\"off\") \n",
    "plt.tight_layout(pad = 0) \n",
    "  \n",
    "plt.show()"
   ]
  },
  {
   "cell_type": "code",
   "execution_count": null,
   "metadata": {},
   "outputs": [],
   "source": [
    "non_off = get_for_wc(0)"
   ]
  },
  {
   "cell_type": "code",
   "execution_count": null,
   "metadata": {},
   "outputs": [],
   "source": [
    "wordcloud_non_off = WordCloud(width = 800, height = 800, \n",
    "                background_color ='white', min_font_size = 10)"
   ]
  },
  {
   "cell_type": "code",
   "execution_count": null,
   "metadata": {},
   "outputs": [],
   "source": [
    "wordcloud_non_off.fit_words( non_off )\n",
    "wordcloud_non_off.recolor( colormap='viridis' )"
   ]
  },
  {
   "cell_type": "code",
   "execution_count": null,
   "metadata": {},
   "outputs": [],
   "source": [
    "plt.figure(figsize = (8, 8), facecolor = None) \n",
    "plt.imshow(wordcloud_non_off) \n",
    "plt.axis(\"off\") \n",
    "plt.tight_layout(pad = 0) \n",
    "  \n",
    "plt.show()"
   ]
  },
  {
   "cell_type": "code",
   "execution_count": null,
   "metadata": {},
   "outputs": [],
   "source": [
    "off_map = get_for_wc(2)"
   ]
  },
  {
   "cell_type": "code",
   "execution_count": null,
   "metadata": {},
   "outputs": [],
   "source": [
    "print ( off_map )"
   ]
  },
  {
   "cell_type": "code",
   "execution_count": null,
   "metadata": {},
   "outputs": [],
   "source": [
    "wordcloud_off = WordCloud(width = 800, height = 800, \n",
    "                background_color ='white', min_font_size = 10)"
   ]
  },
  {
   "cell_type": "code",
   "execution_count": null,
   "metadata": {},
   "outputs": [],
   "source": [
    "wordcloud_off.fit_words( off_map )\n",
    "wordcloud_off.recolor( colormap='viridis' )"
   ]
  },
  {
   "cell_type": "code",
   "execution_count": 839,
   "metadata": {},
   "outputs": [],
   "source": [
    "def show(sentences, is_off): \n",
    "    \n",
    "    #fig, axn = plt.subplots( len(sentences), 1 )\n",
    "    #fig.subplots_adjust(left=0, bottom=0, right=1, top=1, wspace=5, hspace=20)\n",
    "    #fig.tight_layout()\n",
    "\n",
    "    to_seq = tokenizer_keras.texts_to_sequences( sentences )\n",
    "    to_seq = sequence.pad_sequences(to_seq, maxlen=len_max, padding = \"post\")\n",
    "    \n",
    "    #for i, ax in enumerate( axn.flat ):\n",
    "    for i in range( len(sentences) ):\n",
    "            \n",
    "        fig = plt.figure(i, figsize=(20, 1))\n",
    "        fig.tight_layout()\n",
    "        plt.xticks(rotation=0)\n",
    "        \n",
    "        seq = sentences[i]\n",
    "        words = seq.split(\" \")\n",
    "        arr = np.array( to_seq[i] )\n",
    "\n",
    "        arr = np.reshape(arr, (1, arr.shape[0]))\n",
    "        \n",
    "        weights = attn_model.predict(arr)\n",
    "        val = []\n",
    "        total = 0\n",
    "        for j in range( len(words) ):\n",
    "            val.append( weights[0,j] )\n",
    "            total += weights[0,j]\n",
    "\n",
    "        d = {}\n",
    "        d[\"\"] = pd.Series(val, index=words)\n",
    "\n",
    "        df = pd.DataFrame(d)\n",
    "        df.reindex(sentences[i].split(\" \"))\n",
    "        df = df.transpose()\n",
    "        \n",
    "        cmap = None\n",
    "        if is_off[i]:\n",
    "            cmap = \"Reds\"\n",
    "        else:\n",
    "            cmap = \"Greens\"\n",
    "            \n",
    "        sns.set(font_scale=1.2)\n",
    "        ax = sns.heatmap(df, annot=Truex, linewidths=0.5, cmap=cmap,#\"YlGnBu\" \"RdBu_r\",\n",
    "                      cbar_kws={\"orientation\": \"vertical\"}, square = False)\n",
    "        \n",
    "        ax.xaxis.tick_top()\n",
    "        ax.tick_params(length=0)\n",
    "        #sns.heatmap(df, ax=ax, annot=False, cbar_ax=None, cbar=False, linewidths=.0, cmap=\"YlGnBu\")#\"Oranges\")#\"RdBu_r\")\n",
    "    \n",
    "    plt.show()\n",
    "    #return fig"
   ]
  },
  {
   "cell_type": "code",
   "execution_count": 840,
   "metadata": {},
   "outputs": [],
   "source": [
    "sent = ['tu madarchod hai', 'tu gaandu hai', 'tu chutiya hai', 'tu musalmaan hai']"
   ]
  },
  {
   "cell_type": "code",
   "execution_count": 841,
   "metadata": {},
   "outputs": [],
   "source": [
    "x = ['sab musalmaan bhaiyo ko id mubarak',\n",
    "       'aaj India Gate pe hidje ki rally thi',\n",
    "       'In rape cases ki vajah se ladies feel afraid to go out',\n",
    "    'aatankwadi hain tu',\n",
    "    'vo pakistan se hai',\n",
    "    'sab neta aise hai',\n",
    "    'do not behave like a pakistani jihadi',\n",
    "    'musalmaani aaadmi ko nahi banayenge neta']"
   ]
  },
  {
   "cell_type": "code",
   "execution_count": 842,
   "metadata": {},
   "outputs": [],
   "source": [
    "is_off = [True, False, True, True, True, True, True, False]"
   ]
  },
  {
   "cell_type": "code",
   "execution_count": 843,
   "metadata": {},
   "outputs": [
    {
     "name": "stdout",
     "output_type": "stream",
     "text": [
      "['sab musalmaan bhaiyo ko id mubarak', 'aaj India Gate pe hidje ki rally thi', 'In rape cases ki vajah se ladies feel afraid to go out', 'aatankwadi hain tu', 'vo pakistan se hai', 'sab neta aise hai', 'do not behave like a pakistani jihadi', 'musalmaani aaadmi ko nahi banayenge neta']\n"
     ]
    }
   ],
   "source": [
    "print (x)"
   ]
  },
  {
   "cell_type": "code",
   "execution_count": 844,
   "metadata": {},
   "outputs": [
    {
     "data": {
      "image/png": "[encoded data removed]",
      "text/plain": [
       "<Figure size 1440x72 with 2 Axes>"
      ]
     },
     "metadata": {},
     "output_type": "display_data"
    },
    {
     "data": {
      "image/png": "[encoded data removed]",
      "text/plain": [
       "<Figure size 1440x72 with 2 Axes>"
      ]
     },
     "metadata": {},
     "output_type": "display_data"
    },
    {
     "data": {
      "image/png": "[encoded data removed]",
      "text/plain": [
       "<Figure size 1440x72 with 2 Axes>"
      ]
     },
     "metadata": {},
     "output_type": "display_data"
    },
    {
     "data": {
      "image/png": "[encoded data removed]",
      "text/plain": [
       "<Figure size 1440x72 with 2 Axes>"
      ]
     },
     "metadata": {},
     "output_type": "display_data"
    },
    {
     "data": {
      "image/png": "[encoded data removed]",
      "text/plain": [
       "<Figure size 1440x72 with 2 Axes>"
      ]
     },
     "metadata": {},
     "output_type": "display_data"
    },
    {
     "data": {
      "image/png": "[encoded data removed]",
      "text/plain": [
       "<Figure size 1440x72 with 2 Axes>"
      ]
     },
     "metadata": {},
     "output_type": "display_data"
    },
    {
     "data": {
      "image/png": "[encoded data removed]",
      "text/plain": [
       "<Figure size 1440x72 with 2 Axes>"
      ]
     },
     "metadata": {},
     "output_type": "display_data"
    },
    {
     "data": {
      "image/png": "[encoded data removed]",
      "text/plain": [
       "<Figure size 1440x72 with 2 Axes>"
      ]
     },
     "metadata": {},
     "output_type": "display_data"
    }
   ],
   "source": [
    "show(x, is_off)"
   ]
  },
  {
   "cell_type": "code",
   "execution_count": 754,
   "metadata": {},
   "outputs": [],
   "source": [
    "import random"
   ]
  },
  {
   "cell_type": "code",
   "execution_count": 591,
   "metadata": {},
   "outputs": [
    {
     "data": {
      "text/plain": [
       "'user user user abe gaandu housefull outaim khiladi ye sab framcise nahi hai kyaye txe2x80xa6 url'"
      ]
     },
     "execution_count": 591,
     "metadata": {},
     "output_type": "execute_result"
    }
   ],
   "source": [
    "ind = random.randint( 0, train_df.shape[0] )\n",
    "train_df.loc[ind, 'content']"
   ]
  },
  {
   "cell_type": "code",
   "execution_count": 560,
   "metadata": {},
   "outputs": [],
   "source": [
    "def search_word(word):\n",
    "    for i in range( train_df.shape[0] ):\n",
    "        s = train_df.loc[i, 'content']\n",
    "        if word in s:\n",
    "            print (s)"
   ]
  },
  {
   "cell_type": "code",
   "execution_count": 592,
   "metadata": {},
   "outputs": [
    {
     "name": "stdout",
     "output_type": "stream",
     "text": [
      "user you madarchod in user screw air india and still have audacity to question government kya khate ho aur kya sochte ho xe2x80xa6 url\n",
      "user bhadva vo khali tu hay tihar ki tyari kar baki sara india safe haytune life me ek hi kam achha kixe2x80xa6 url\n",
      "user user user user user india deta h leni to usy atii hi nahi nchutia\n",
      "user not an indian seaplane and certainly not a gujrati pilot now i understand that hashtag be electioxe2x80xa6 url\n",
      "user aur ye log bolte hai vikas ho rha haibc india ke culture ki maa bhen ek kr di hainnamo namo namo ane chutiya bano xf0x9fx98x82xf0x9fx98x82xf0x9fx91x8fxf0x9fx91x8fxf0x9fx91x8f\n",
      "user when kejri talk against surgical strike pakistan take a dig at india haraam zaade\n",
      "user wah kya baat h ye h india k insaan jo jaanvar se b bekaar h\n",
      "rt user me in this world india be greatxe2x99xa5xefxb8x8f pakistan tatti ka lodannme in mar incredible india xe2x99xa5xefxb8x8f pakistan hai hee jhaat ka pxe2x80xa6\n",
      "user user user oh mrhasindu or pasindu three for india and zero for madharchod bahanchod srilanka\n",
      "manohar parrikar justify rafale cost xe2x80x98aircraft smaller part real cost in equipmentxe2x80x99 xe2x80x93 the indian expressxe2x80xa6 url\n",
      "naturally soft and suckable boob of a hot young desi indian babe url url\n",
      "rt user indian desi bhabhi with her chodu devar url\n",
      "user user user bhai tamne gaand dhota aavde chey tweet ma pan vaas aave chey india nxe2x80xa6 url\n",
      "user or fawad gareeb india me gaand marwane kyu aata haixf0x9fx98x82xf0x9fx98x82\n",
      "xe0xa4xaaxe0xa4xa1xe0xa4xbcxe0xa5x8bxe0xa4xb8xe0xa4xa8 xe0xa4xadxe0xa4xbexe0xa4xadxe0xa5x80 xe0xa4x95xe0xa5x8b xe0xa4xabxe0xa5x8dxe0xa4xb0xe0xa5x80 xe0xa4xb8xe0xa5x8dxe0xa4xaaxe0xa4xb0xe0xa5x8dxe0xa4xae xe0xa4xa1xe0xa5x8bxe0xa4xa8xe0xa5x87xe0xa4x9f xe0xa4x95xe0xa4xbfxe0xa4xafxe0xa4xbe2 antarvasna indian sex kahani url\n",
      "user user yeah but in india you either have those 80s ka maladnirodh ads jis mein kuch samajhxe2x80xa6 url\n",
      "user user user user user nirodh shd be allowedit be make in indiahahahah\n",
      "user rahul gandhi be the future of india bend ur knees and bow ur head bcos in two thousand and nineteen each one of you modi boys wxe2x80xa6 url\n",
      "user when you last time make love in front of your kid see in india problem in condemn add problem withxe2x80xa6 url\n",
      "user look like indias population growth rate be go to increase due to this i grow up watch thexe2x80xa6 url\n",
      "saalo maa ka bhosda silvane tak to india mein aate ho baat karte ho 1st innings ki url\n",
      "user user teri maa ka bhosdaindia me tera jaise chutiya hotajapan me nigetting a release therexe2x80xa6 url\n",
      "he be a king of indianjo chahe vo kare tuje kyanvo plan kabhi nahi tutega jisme modiji hongenornvo har plan crasxe2x80xa6 url\n",
      "rt user he be a king of indianjo chahe vo kare tuje kyanvo plan kabhi nahi tutega jisme modiji hongenornvo har plan crash hoxe2x80xa6\n",
      "user mani be on the road so be congress they deserve it but pm modi be hold the indias highest offxe2x80xa6 url\n",
      "rt user proud of indian democracy user a man bear in poverty by his hard work honesty record of governance be electedxe2x80xa6\n",
      "india ki govt hi chutiya h bc one hundred and twenty-five cr janta k liye jhant barabar doctor hkoi sunne wala hi ni h\n",
      "delhi hi nahin puri india mein hai yeh virus\n",
      "rt user here be an interest statnn170 million indian muslimsn100 join isisnthats 000005nn1 billion indian hindusnestimated 7xe2x80xa6\n",
      "rt user be the ancient hindu myths of a land bridge connect india and sri lanka true scientific analysis suggest they arexe2x80xa6\n",
      "rt user bomb feed to poor hindu farmers cow by muslims in madhya pradesh india because cow be sacred in hinduism url\n",
      "user konsa indian mujahid kabka khatam ho chuka he aur mughal agar aatankwadi the to kyu nine hundred one thousand sal raj karnxe2x80xa6 url\n",
      "hum indian kahte hai aatankwadi se humhe bachao now here terrorist be say that save us from israel\n",
      "user user user user user user anil sir indian army ki saman bhartiya janta paxe2x80xa6 url\n",
      "rt user xf0x9fx91x89beware hindus it be time two unitenxf0x9fx91x89brutality with hashtag nproved isis be work in indianxf0x9fx91x89dont expect justicexe2x80xa6\n",
      "rt user hindu organizations be sleep in india ignore hindu to christian conversion threat bigger which be bigger than jxe2x80xa6\n",
      "user user do not behave like a pakistani jihadi behave like indian\n"
     ]
    }
   ],
   "source": [
    "search_word(\"india\")"
   ]
  },
  {
   "cell_type": "code",
   "execution_count": null,
   "metadata": {},
   "outputs": [],
   "source": []
  }
 ],
 "metadata": {
  "kernelspec": {
   "display_name": "Python 3 (ipykernel)",
   "language": "python",
   "name": "python3"
  },
  "language_info": {
   "codemirror_mode": {
    "name": "ipython",
    "version": 3
   },
   "file_extension": ".py",
   "mimetype": "text/x-python",
   "name": "python",
   "nbconvert_exporter": "python",
   "pygments_lexer": "ipython3",
   "version": "3.9.9"
  }
 },
 "nbformat": 4,
 "nbformat_minor": 2
}
